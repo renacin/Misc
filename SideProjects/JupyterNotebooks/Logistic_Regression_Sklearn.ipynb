{
 "cells": [
  {
   "cell_type": "markdown",
   "metadata": {},
   "source": [
    "<img src='../images/wcd_logo.png' width='50%'>\n",
    "-------------\n",
    "\n",
    "<h3 align='center'> WCD Machine Learning Course</h3>\n",
    "<h1 align='center'> Logistic Regression Exercise </h1>\n",
    "\n",
    "<br>\n",
    "<center align=\"left\"> Developed by: </center>\n",
    "<center align=\"left\"> WeCloudData Academy </center>\n",
    "\n"
   ]
  },
  {
   "cell_type": "markdown",
   "metadata": {},
   "source": [
    "Data comes from the [Glass Identification Dataset](https://archive.ics.uci.edu/ml/datasets/glass+identification)\n",
    "\n",
    "Features:\n",
    "\n",
    "1. Id number: 1 to 214 \n",
    "2. RI: refractive index \n",
    "3. Na: Sodium (unit measurement: weight percent in corresponding oxide, as are attributes 4-10) \n",
    "4. Mg: Magnesium \n",
    "5. Al: Aluminum \n",
    "6. Si: Silicon \n",
    "7. K: Potassium \n",
    "8. Ca: Calcium \n",
    "9. Ba: Barium \n",
    "10. Fe: Iron \n",
    "11. Type of glass: (class attribute) \n",
    "\n",
    "&nbsp;&nbsp;&nbsp;&nbsp; 1 building_windows_float_processed \n",
    "\n",
    "&nbsp;&nbsp;&nbsp;&nbsp; 2 building_windows_non_float_processed \n",
    "\n",
    "&nbsp;&nbsp;&nbsp;&nbsp; 3 vehicle_windows_float_processed \n",
    "\n",
    "&nbsp;&nbsp;&nbsp;&nbsp; 4 vehicle_windows_non_float_processed (none in this database) \n",
    "\n",
    "&nbsp;&nbsp;&nbsp;&nbsp; 5 containers \n",
    "\n",
    "&nbsp;&nbsp;&nbsp;&nbsp; 6 tableware \n",
    "\n",
    "&nbsp;&nbsp;&nbsp;&nbsp; 7 headlamps"
   ]
  },
  {
   "cell_type": "code",
   "execution_count": 1,
   "metadata": {},
   "outputs": [],
   "source": [
    "import numpy as np\n",
    "import pandas as pd\n",
    "import matplotlib.pyplot as plt\n",
    "%matplotlib inline\n",
    "plt.rcParams['axes.grid'] = True"
   ]
  },
  {
   "cell_type": "code",
   "execution_count": 6,
   "metadata": {},
   "outputs": [
    {
     "data": {
      "text/html": [
       "<div>\n",
       "<style scoped>\n",
       "    .dataframe tbody tr th:only-of-type {\n",
       "        vertical-align: middle;\n",
       "    }\n",
       "\n",
       "    .dataframe tbody tr th {\n",
       "        vertical-align: top;\n",
       "    }\n",
       "\n",
       "    .dataframe thead th {\n",
       "        text-align: right;\n",
       "    }\n",
       "</style>\n",
       "<table border=\"1\" class=\"dataframe\">\n",
       "  <thead>\n",
       "    <tr style=\"text-align: right;\">\n",
       "      <th></th>\n",
       "      <th>ri</th>\n",
       "      <th>na</th>\n",
       "      <th>mg</th>\n",
       "      <th>al</th>\n",
       "      <th>si</th>\n",
       "      <th>k</th>\n",
       "      <th>ca</th>\n",
       "      <th>ba</th>\n",
       "      <th>fe</th>\n",
       "      <th>glass_type</th>\n",
       "    </tr>\n",
       "    <tr>\n",
       "      <th>id</th>\n",
       "      <th></th>\n",
       "      <th></th>\n",
       "      <th></th>\n",
       "      <th></th>\n",
       "      <th></th>\n",
       "      <th></th>\n",
       "      <th></th>\n",
       "      <th></th>\n",
       "      <th></th>\n",
       "      <th></th>\n",
       "    </tr>\n",
       "  </thead>\n",
       "  <tbody>\n",
       "    <tr>\n",
       "      <th>22</th>\n",
       "      <td>1.51966</td>\n",
       "      <td>14.77</td>\n",
       "      <td>3.75</td>\n",
       "      <td>0.29</td>\n",
       "      <td>72.02</td>\n",
       "      <td>0.03</td>\n",
       "      <td>9.00</td>\n",
       "      <td>0.0</td>\n",
       "      <td>0.00</td>\n",
       "      <td>1</td>\n",
       "    </tr>\n",
       "    <tr>\n",
       "      <th>185</th>\n",
       "      <td>1.51115</td>\n",
       "      <td>17.38</td>\n",
       "      <td>0.00</td>\n",
       "      <td>0.34</td>\n",
       "      <td>75.41</td>\n",
       "      <td>0.00</td>\n",
       "      <td>6.65</td>\n",
       "      <td>0.0</td>\n",
       "      <td>0.00</td>\n",
       "      <td>6</td>\n",
       "    </tr>\n",
       "    <tr>\n",
       "      <th>40</th>\n",
       "      <td>1.52213</td>\n",
       "      <td>14.21</td>\n",
       "      <td>3.82</td>\n",
       "      <td>0.47</td>\n",
       "      <td>71.77</td>\n",
       "      <td>0.11</td>\n",
       "      <td>9.57</td>\n",
       "      <td>0.0</td>\n",
       "      <td>0.00</td>\n",
       "      <td>1</td>\n",
       "    </tr>\n",
       "    <tr>\n",
       "      <th>39</th>\n",
       "      <td>1.52213</td>\n",
       "      <td>14.21</td>\n",
       "      <td>3.82</td>\n",
       "      <td>0.47</td>\n",
       "      <td>71.77</td>\n",
       "      <td>0.11</td>\n",
       "      <td>9.57</td>\n",
       "      <td>0.0</td>\n",
       "      <td>0.00</td>\n",
       "      <td>1</td>\n",
       "    </tr>\n",
       "    <tr>\n",
       "      <th>51</th>\n",
       "      <td>1.52320</td>\n",
       "      <td>13.72</td>\n",
       "      <td>3.72</td>\n",
       "      <td>0.51</td>\n",
       "      <td>71.75</td>\n",
       "      <td>0.09</td>\n",
       "      <td>10.06</td>\n",
       "      <td>0.0</td>\n",
       "      <td>0.16</td>\n",
       "      <td>1</td>\n",
       "    </tr>\n",
       "  </tbody>\n",
       "</table>\n",
       "</div>"
      ],
      "text/plain": [
       "          ri     na    mg    al     si     k     ca   ba    fe  glass_type\n",
       "id                                                                        \n",
       "22   1.51966  14.77  3.75  0.29  72.02  0.03   9.00  0.0  0.00           1\n",
       "185  1.51115  17.38  0.00  0.34  75.41  0.00   6.65  0.0  0.00           6\n",
       "40   1.52213  14.21  3.82  0.47  71.77  0.11   9.57  0.0  0.00           1\n",
       "39   1.52213  14.21  3.82  0.47  71.77  0.11   9.57  0.0  0.00           1\n",
       "51   1.52320  13.72  3.72  0.51  71.75  0.09  10.06  0.0  0.16           1"
      ]
     },
     "execution_count": 6,
     "metadata": {},
     "output_type": "execute_result"
    }
   ],
   "source": [
    "# glass identification dataset\n",
    "file_name = 'glass.data'\n",
    "col_names = ['id','ri','na','mg','al','si','k','ca','ba','fe','glass_type']\n",
    "glass = pd.read_csv(file_name, names=col_names, index_col='id')\n",
    "glass.sort_values('al', inplace=True)\n",
    "glass.head()"
   ]
  },
  {
   "cell_type": "markdown",
   "metadata": {},
   "source": [
    "### Try a regression problem first\n",
    "* Target \"ri\"\n",
    "* Predictor \"al\""
   ]
  },
  {
   "cell_type": "code",
   "execution_count": 7,
   "metadata": {
    "scrolled": true
   },
   "outputs": [
    {
     "data": {
      "text/plain": [
       "(1.51015, 1.53493)"
      ]
     },
     "execution_count": 7,
     "metadata": {},
     "output_type": "execute_result"
    },
    {
     "data": {
      "image/png": "[encoded data removed]",
      "text/plain": [
       "<Figure size 432x288 with 1 Axes>"
      ]
     },
     "metadata": {
      "needs_background": "light"
     },
     "output_type": "display_data"
    }
   ],
   "source": [
    "plt.scatter(x = glass.al, y = glass.ri)\n",
    "plt.xlabel(\"al\")\n",
    "plt.ylabel(\"ri\")\n",
    "plt.ylim(min(glass.ri) - 0.001, max(glass.ri) + 0.001)"
   ]
  },
  {
   "cell_type": "code",
   "execution_count": 14,
   "metadata": {},
   "outputs": [
    {
     "data": {
      "text/plain": [
       "LinearRegression(copy_X=True, fit_intercept=True, n_jobs=1, normalize=False)"
      ]
     },
     "execution_count": 14,
     "metadata": {},
     "output_type": "execute_result"
    }
   ],
   "source": [
    "# fit a linear regression model\n",
    "from sklearn.linear_model import LinearRegression\n",
    "linreg = LinearRegression()\n",
    "predictor = ['al']\n",
    "X = glass[predictor]\n",
    "y = glass.ri\n",
    "linreg.fit(X, y)"
   ]
  },
  {
   "cell_type": "code",
   "execution_count": 7,
   "metadata": {},
   "outputs": [
    {
     "data": {
      "text/html": [
       "<div>\n",
       "<style scoped>\n",
       "    .dataframe tbody tr th:only-of-type {\n",
       "        vertical-align: middle;\n",
       "    }\n",
       "\n",
       "    .dataframe tbody tr th {\n",
       "        vertical-align: top;\n",
       "    }\n",
       "\n",
       "    .dataframe thead th {\n",
       "        text-align: right;\n",
       "    }\n",
       "</style>\n",
       "<table border=\"1\" class=\"dataframe\">\n",
       "  <thead>\n",
       "    <tr style=\"text-align: right;\">\n",
       "      <th></th>\n",
       "      <th>ri</th>\n",
       "      <th>na</th>\n",
       "      <th>mg</th>\n",
       "      <th>al</th>\n",
       "      <th>si</th>\n",
       "      <th>k</th>\n",
       "      <th>ca</th>\n",
       "      <th>ba</th>\n",
       "      <th>fe</th>\n",
       "      <th>glass_type</th>\n",
       "      <th>ri_pred</th>\n",
       "    </tr>\n",
       "    <tr>\n",
       "      <th>id</th>\n",
       "      <th></th>\n",
       "      <th></th>\n",
       "      <th></th>\n",
       "      <th></th>\n",
       "      <th></th>\n",
       "      <th></th>\n",
       "      <th></th>\n",
       "      <th></th>\n",
       "      <th></th>\n",
       "      <th></th>\n",
       "      <th></th>\n",
       "    </tr>\n",
       "  </thead>\n",
       "  <tbody>\n",
       "    <tr>\n",
       "      <th>22</th>\n",
       "      <td>1.51966</td>\n",
       "      <td>14.77</td>\n",
       "      <td>3.75</td>\n",
       "      <td>0.29</td>\n",
       "      <td>72.02</td>\n",
       "      <td>0.03</td>\n",
       "      <td>9.00</td>\n",
       "      <td>0.0</td>\n",
       "      <td>0.00</td>\n",
       "      <td>1</td>\n",
       "      <td>1.521227</td>\n",
       "    </tr>\n",
       "    <tr>\n",
       "      <th>185</th>\n",
       "      <td>1.51115</td>\n",
       "      <td>17.38</td>\n",
       "      <td>0.00</td>\n",
       "      <td>0.34</td>\n",
       "      <td>75.41</td>\n",
       "      <td>0.00</td>\n",
       "      <td>6.65</td>\n",
       "      <td>0.0</td>\n",
       "      <td>0.00</td>\n",
       "      <td>6</td>\n",
       "      <td>1.521103</td>\n",
       "    </tr>\n",
       "    <tr>\n",
       "      <th>40</th>\n",
       "      <td>1.52213</td>\n",
       "      <td>14.21</td>\n",
       "      <td>3.82</td>\n",
       "      <td>0.47</td>\n",
       "      <td>71.77</td>\n",
       "      <td>0.11</td>\n",
       "      <td>9.57</td>\n",
       "      <td>0.0</td>\n",
       "      <td>0.00</td>\n",
       "      <td>1</td>\n",
       "      <td>1.520781</td>\n",
       "    </tr>\n",
       "    <tr>\n",
       "      <th>39</th>\n",
       "      <td>1.52213</td>\n",
       "      <td>14.21</td>\n",
       "      <td>3.82</td>\n",
       "      <td>0.47</td>\n",
       "      <td>71.77</td>\n",
       "      <td>0.11</td>\n",
       "      <td>9.57</td>\n",
       "      <td>0.0</td>\n",
       "      <td>0.00</td>\n",
       "      <td>1</td>\n",
       "      <td>1.520781</td>\n",
       "    </tr>\n",
       "    <tr>\n",
       "      <th>51</th>\n",
       "      <td>1.52320</td>\n",
       "      <td>13.72</td>\n",
       "      <td>3.72</td>\n",
       "      <td>0.51</td>\n",
       "      <td>71.75</td>\n",
       "      <td>0.09</td>\n",
       "      <td>10.06</td>\n",
       "      <td>0.0</td>\n",
       "      <td>0.16</td>\n",
       "      <td>1</td>\n",
       "      <td>1.520682</td>\n",
       "    </tr>\n",
       "  </tbody>\n",
       "</table>\n",
       "</div>"
      ],
      "text/plain": [
       "          ri     na    mg    al     si     k     ca   ba    fe  glass_type  \\\n",
       "id                                                                           \n",
       "22   1.51966  14.77  3.75  0.29  72.02  0.03   9.00  0.0  0.00           1   \n",
       "185  1.51115  17.38  0.00  0.34  75.41  0.00   6.65  0.0  0.00           6   \n",
       "40   1.52213  14.21  3.82  0.47  71.77  0.11   9.57  0.0  0.00           1   \n",
       "39   1.52213  14.21  3.82  0.47  71.77  0.11   9.57  0.0  0.00           1   \n",
       "51   1.52320  13.72  3.72  0.51  71.75  0.09  10.06  0.0  0.16           1   \n",
       "\n",
       "      ri_pred  \n",
       "id             \n",
       "22   1.521227  \n",
       "185  1.521103  \n",
       "40   1.520781  \n",
       "39   1.520781  \n",
       "51   1.520682  "
      ]
     },
     "execution_count": 7,
     "metadata": {},
     "output_type": "execute_result"
    }
   ],
   "source": [
    "# make predictions for all values of X\n",
    "glass['ri_pred'] = linreg.predict(X)\n",
    "glass.head()"
   ]
  },
  {
   "cell_type": "code",
   "execution_count": 8,
   "metadata": {},
   "outputs": [
    {
     "data": {
      "text/plain": [
       "Text(0,0.5,'Predicted ri')"
      ]
     },
     "execution_count": 8,
     "metadata": {},
     "output_type": "execute_result"
    },
    {
     "data": {
      "image/png": "[encoded data removed]",
      "text/plain": [
       "<Figure size 432x288 with 1 Axes>"
      ]
     },
     "metadata": {},
     "output_type": "display_data"
    }
   ],
   "source": [
    "# plot those predictions connected by a line\n",
    "plt.scatter(x = glass.al, y = glass.ri)\n",
    "plt.plot(glass.al, glass.ri_pred, color='red')\n",
    "plt.xlabel('al')\n",
    "plt.ylabel('Predicted ri')"
   ]
  },
  {
   "cell_type": "markdown",
   "metadata": {},
   "source": [
    "## Logistic Regression"
   ]
  },
  {
   "cell_type": "markdown",
   "metadata": {},
   "source": [
    "### Define Target"
   ]
  },
  {
   "cell_type": "code",
   "execution_count": 9,
   "metadata": {},
   "outputs": [
    {
     "data": {
      "text/plain": [
       "2    76\n",
       "1    70\n",
       "7    29\n",
       "3    17\n",
       "5    13\n",
       "6     9\n",
       "Name: glass_type, dtype: int64"
      ]
     },
     "execution_count": 9,
     "metadata": {},
     "output_type": "execute_result"
    }
   ],
   "source": [
    "glass['glass_type'].value_counts()"
   ]
  },
  {
   "cell_type": "code",
   "execution_count": 9,
   "metadata": {},
   "outputs": [
    {
     "data": {
      "text/plain": [
       "1    70\n",
       "2    76\n",
       "3    17\n",
       "5    13\n",
       "6     9\n",
       "7    29\n",
       "Name: glass_type, dtype: int64"
      ]
     },
     "execution_count": 9,
     "metadata": {},
     "output_type": "execute_result"
    }
   ],
   "source": [
    "# examine glass_type\n",
    "glass.glass_type.value_counts().sort_index()"
   ]
  },
  {
   "cell_type": "code",
   "execution_count": 10,
   "metadata": {
    "scrolled": true
   },
   "outputs": [
    {
     "data": {
      "text/html": [
       "<div>\n",
       "<style scoped>\n",
       "    .dataframe tbody tr th:only-of-type {\n",
       "        vertical-align: middle;\n",
       "    }\n",
       "\n",
       "    .dataframe tbody tr th {\n",
       "        vertical-align: top;\n",
       "    }\n",
       "\n",
       "    .dataframe thead th {\n",
       "        text-align: right;\n",
       "    }\n",
       "</style>\n",
       "<table border=\"1\" class=\"dataframe\">\n",
       "  <thead>\n",
       "    <tr style=\"text-align: right;\">\n",
       "      <th></th>\n",
       "      <th>ri</th>\n",
       "      <th>na</th>\n",
       "      <th>mg</th>\n",
       "      <th>al</th>\n",
       "      <th>si</th>\n",
       "      <th>k</th>\n",
       "      <th>ca</th>\n",
       "      <th>ba</th>\n",
       "      <th>fe</th>\n",
       "      <th>glass_type</th>\n",
       "      <th>household</th>\n",
       "    </tr>\n",
       "    <tr>\n",
       "      <th>id</th>\n",
       "      <th></th>\n",
       "      <th></th>\n",
       "      <th></th>\n",
       "      <th></th>\n",
       "      <th></th>\n",
       "      <th></th>\n",
       "      <th></th>\n",
       "      <th></th>\n",
       "      <th></th>\n",
       "      <th></th>\n",
       "      <th></th>\n",
       "    </tr>\n",
       "  </thead>\n",
       "  <tbody>\n",
       "    <tr>\n",
       "      <th>22</th>\n",
       "      <td>1.51966</td>\n",
       "      <td>14.77</td>\n",
       "      <td>3.75</td>\n",
       "      <td>0.29</td>\n",
       "      <td>72.02</td>\n",
       "      <td>0.03</td>\n",
       "      <td>9.00</td>\n",
       "      <td>0.0</td>\n",
       "      <td>0.00</td>\n",
       "      <td>1</td>\n",
       "      <td>0</td>\n",
       "    </tr>\n",
       "    <tr>\n",
       "      <th>185</th>\n",
       "      <td>1.51115</td>\n",
       "      <td>17.38</td>\n",
       "      <td>0.00</td>\n",
       "      <td>0.34</td>\n",
       "      <td>75.41</td>\n",
       "      <td>0.00</td>\n",
       "      <td>6.65</td>\n",
       "      <td>0.0</td>\n",
       "      <td>0.00</td>\n",
       "      <td>6</td>\n",
       "      <td>1</td>\n",
       "    </tr>\n",
       "    <tr>\n",
       "      <th>40</th>\n",
       "      <td>1.52213</td>\n",
       "      <td>14.21</td>\n",
       "      <td>3.82</td>\n",
       "      <td>0.47</td>\n",
       "      <td>71.77</td>\n",
       "      <td>0.11</td>\n",
       "      <td>9.57</td>\n",
       "      <td>0.0</td>\n",
       "      <td>0.00</td>\n",
       "      <td>1</td>\n",
       "      <td>0</td>\n",
       "    </tr>\n",
       "    <tr>\n",
       "      <th>39</th>\n",
       "      <td>1.52213</td>\n",
       "      <td>14.21</td>\n",
       "      <td>3.82</td>\n",
       "      <td>0.47</td>\n",
       "      <td>71.77</td>\n",
       "      <td>0.11</td>\n",
       "      <td>9.57</td>\n",
       "      <td>0.0</td>\n",
       "      <td>0.00</td>\n",
       "      <td>1</td>\n",
       "      <td>0</td>\n",
       "    </tr>\n",
       "    <tr>\n",
       "      <th>51</th>\n",
       "      <td>1.52320</td>\n",
       "      <td>13.72</td>\n",
       "      <td>3.72</td>\n",
       "      <td>0.51</td>\n",
       "      <td>71.75</td>\n",
       "      <td>0.09</td>\n",
       "      <td>10.06</td>\n",
       "      <td>0.0</td>\n",
       "      <td>0.16</td>\n",
       "      <td>1</td>\n",
       "      <td>0</td>\n",
       "    </tr>\n",
       "  </tbody>\n",
       "</table>\n",
       "</div>"
      ],
      "text/plain": [
       "          ri     na    mg    al     si     k     ca   ba    fe  glass_type  \\\n",
       "id                                                                           \n",
       "22   1.51966  14.77  3.75  0.29  72.02  0.03   9.00  0.0  0.00           1   \n",
       "185  1.51115  17.38  0.00  0.34  75.41  0.00   6.65  0.0  0.00           6   \n",
       "40   1.52213  14.21  3.82  0.47  71.77  0.11   9.57  0.0  0.00           1   \n",
       "39   1.52213  14.21  3.82  0.47  71.77  0.11   9.57  0.0  0.00           1   \n",
       "51   1.52320  13.72  3.72  0.51  71.75  0.09  10.06  0.0  0.16           1   \n",
       "\n",
       "     household  \n",
       "id              \n",
       "22           0  \n",
       "185          1  \n",
       "40           0  \n",
       "39           0  \n",
       "51           0  "
      ]
     },
     "execution_count": 10,
     "metadata": {},
     "output_type": "execute_result"
    }
   ],
   "source": [
    "# Create binary target\n",
    "# types 1, 2, 3 are window glass\n",
    "# types 5, 6, 7 are household glass\n",
    "\n",
    "glass['household'] = glass.glass_type.map({1:0, 2:0, 3:0, 5:1, 6:1, 7:1})\n",
    "glass.head()"
   ]
  },
  {
   "cell_type": "code",
   "execution_count": 11,
   "metadata": {},
   "outputs": [
    {
     "data": {
      "text/plain": [
       "0    163\n",
       "1     51\n",
       "Name: household, dtype: int64"
      ]
     },
     "execution_count": 11,
     "metadata": {},
     "output_type": "execute_result"
    }
   ],
   "source": [
    "glass['household'].value_counts()"
   ]
  },
  {
   "cell_type": "code",
   "execution_count": 12,
   "metadata": {},
   "outputs": [
    {
     "data": {
      "text/plain": [
       "Text(0,0.5,'household')"
      ]
     },
     "execution_count": 12,
     "metadata": {},
     "output_type": "execute_result"
    },
    {
     "data": {
      "image/png": "[encoded data removed]",
      "text/plain": [
       "<Figure size 432x288 with 1 Axes>"
      ]
     },
     "metadata": {
      "needs_background": "light"
     },
     "output_type": "display_data"
    }
   ],
   "source": [
    "# Use household as the target variable and plot the relationship between predictor and target\n",
    "plt.scatter(glass.al, glass.household, alpha=0.5)\n",
    "plt.xlabel('al')\n",
    "plt.ylabel('household')"
   ]
  },
  {
   "cell_type": "markdown",
   "metadata": {},
   "source": [
    "### Try a regression model first"
   ]
  },
  {
   "cell_type": "code",
   "execution_count": 15,
   "metadata": {},
   "outputs": [],
   "source": [
    "### Try a regression model to fit the binary data\n",
    "predictor = ['al']\n",
    "X = glass[predictor]\n",
    "y = glass.household\n",
    "linreg.fit(X, y)\n",
    "glass['household_linear_pred'] = linreg.predict(X)"
   ]
  },
  {
   "cell_type": "code",
   "execution_count": 16,
   "metadata": {},
   "outputs": [
    {
     "data": {
      "text/plain": [
       "Text(0,0.5,'household')"
      ]
     },
     "execution_count": 16,
     "metadata": {},
     "output_type": "execute_result"
    },
    {
     "data": {
      "image/png": "[encoded data removed]",
      "text/plain": [
       "<Figure size 432x288 with 1 Axes>"
      ]
     },
     "metadata": {
      "needs_background": "light"
     },
     "output_type": "display_data"
    }
   ],
   "source": [
    "# scatter plot that includes the regression line\n",
    "plt.scatter(glass.al, glass.household, alpha=0.4)\n",
    "plt.plot(glass.al, glass.household_linear_pred, color='red', alpha=0.3)\n",
    "plt.xlabel('al')\n",
    "plt.ylabel('household')"
   ]
  },
  {
   "cell_type": "markdown",
   "metadata": {},
   "source": [
    "If al=3, what class do we predict for household? ==> 1   \n",
    "If al=1.5, what class do we predict for household? ==> 0   \n",
    "We predict the 0 class for lower values of al, and the 1 class for higher values of al. What's our cutoff value?    Around al=2, because that's where the linear regression line crosses the midpoint between predicting class 0 and class 1.   \n",
    "Therefore, we'll say that if household_pred >= 0.5, we predict a class of 1, else we predict a class of 0."
   ]
  },
  {
   "cell_type": "markdown",
   "metadata": {},
   "source": [
    "### Select a cutoff point "
   ]
  },
  {
   "cell_type": "code",
   "execution_count": 17,
   "metadata": {},
   "outputs": [
    {
     "data": {
      "text/html": [
       "<div>\n",
       "<style scoped>\n",
       "    .dataframe tbody tr th:only-of-type {\n",
       "        vertical-align: middle;\n",
       "    }\n",
       "\n",
       "    .dataframe tbody tr th {\n",
       "        vertical-align: top;\n",
       "    }\n",
       "\n",
       "    .dataframe thead th {\n",
       "        text-align: right;\n",
       "    }\n",
       "</style>\n",
       "<table border=\"1\" class=\"dataframe\">\n",
       "  <thead>\n",
       "    <tr style=\"text-align: right;\">\n",
       "      <th></th>\n",
       "      <th>ri</th>\n",
       "      <th>al</th>\n",
       "      <th>household</th>\n",
       "      <th>household_linear_pred</th>\n",
       "      <th>household_linear_pred_class</th>\n",
       "    </tr>\n",
       "    <tr>\n",
       "      <th>id</th>\n",
       "      <th></th>\n",
       "      <th></th>\n",
       "      <th></th>\n",
       "      <th></th>\n",
       "      <th></th>\n",
       "    </tr>\n",
       "  </thead>\n",
       "  <tbody>\n",
       "    <tr>\n",
       "      <th>186</th>\n",
       "      <td>1.51131</td>\n",
       "      <td>1.81</td>\n",
       "      <td>1</td>\n",
       "      <td>0.421294</td>\n",
       "      <td>0</td>\n",
       "    </tr>\n",
       "    <tr>\n",
       "      <th>118</th>\n",
       "      <td>1.51708</td>\n",
       "      <td>1.81</td>\n",
       "      <td>0</td>\n",
       "      <td>0.421294</td>\n",
       "      <td>0</td>\n",
       "    </tr>\n",
       "    <tr>\n",
       "      <th>208</th>\n",
       "      <td>1.51831</td>\n",
       "      <td>1.82</td>\n",
       "      <td>1</td>\n",
       "      <td>0.426306</td>\n",
       "      <td>0</td>\n",
       "    </tr>\n",
       "    <tr>\n",
       "      <th>169</th>\n",
       "      <td>1.51666</td>\n",
       "      <td>1.83</td>\n",
       "      <td>1</td>\n",
       "      <td>0.431318</td>\n",
       "      <td>0</td>\n",
       "    </tr>\n",
       "    <tr>\n",
       "      <th>165</th>\n",
       "      <td>1.51915</td>\n",
       "      <td>1.86</td>\n",
       "      <td>1</td>\n",
       "      <td>0.446353</td>\n",
       "      <td>0</td>\n",
       "    </tr>\n",
       "    <tr>\n",
       "      <th>207</th>\n",
       "      <td>1.51645</td>\n",
       "      <td>1.87</td>\n",
       "      <td>1</td>\n",
       "      <td>0.451365</td>\n",
       "      <td>0</td>\n",
       "    </tr>\n",
       "    <tr>\n",
       "      <th>90</th>\n",
       "      <td>1.51640</td>\n",
       "      <td>1.87</td>\n",
       "      <td>0</td>\n",
       "      <td>0.451365</td>\n",
       "      <td>0</td>\n",
       "    </tr>\n",
       "    <tr>\n",
       "      <th>106</th>\n",
       "      <td>1.52475</td>\n",
       "      <td>1.88</td>\n",
       "      <td>0</td>\n",
       "      <td>0.456377</td>\n",
       "      <td>0</td>\n",
       "    </tr>\n",
       "    <tr>\n",
       "      <th>80</th>\n",
       "      <td>1.51590</td>\n",
       "      <td>1.90</td>\n",
       "      <td>0</td>\n",
       "      <td>0.466400</td>\n",
       "      <td>0</td>\n",
       "    </tr>\n",
       "    <tr>\n",
       "      <th>213</th>\n",
       "      <td>1.51651</td>\n",
       "      <td>1.94</td>\n",
       "      <td>1</td>\n",
       "      <td>0.486447</td>\n",
       "      <td>0</td>\n",
       "    </tr>\n",
       "    <tr>\n",
       "      <th>195</th>\n",
       "      <td>1.51683</td>\n",
       "      <td>1.98</td>\n",
       "      <td>1</td>\n",
       "      <td>0.506494</td>\n",
       "      <td>1</td>\n",
       "    </tr>\n",
       "    <tr>\n",
       "      <th>211</th>\n",
       "      <td>1.51685</td>\n",
       "      <td>1.99</td>\n",
       "      <td>1</td>\n",
       "      <td>0.511506</td>\n",
       "      <td>1</td>\n",
       "    </tr>\n",
       "    <tr>\n",
       "      <th>204</th>\n",
       "      <td>1.51658</td>\n",
       "      <td>1.99</td>\n",
       "      <td>1</td>\n",
       "      <td>0.511506</td>\n",
       "      <td>1</td>\n",
       "    </tr>\n",
       "    <tr>\n",
       "      <th>194</th>\n",
       "      <td>1.51719</td>\n",
       "      <td>2.00</td>\n",
       "      <td>1</td>\n",
       "      <td>0.516518</td>\n",
       "      <td>1</td>\n",
       "    </tr>\n",
       "    <tr>\n",
       "      <th>212</th>\n",
       "      <td>1.52065</td>\n",
       "      <td>2.02</td>\n",
       "      <td>1</td>\n",
       "      <td>0.526541</td>\n",
       "      <td>1</td>\n",
       "    </tr>\n",
       "    <tr>\n",
       "      <th>189</th>\n",
       "      <td>1.52247</td>\n",
       "      <td>2.06</td>\n",
       "      <td>1</td>\n",
       "      <td>0.546588</td>\n",
       "      <td>1</td>\n",
       "    </tr>\n",
       "    <tr>\n",
       "      <th>214</th>\n",
       "      <td>1.51711</td>\n",
       "      <td>2.08</td>\n",
       "      <td>1</td>\n",
       "      <td>0.556612</td>\n",
       "      <td>1</td>\n",
       "    </tr>\n",
       "    <tr>\n",
       "      <th>85</th>\n",
       "      <td>1.51409</td>\n",
       "      <td>2.08</td>\n",
       "      <td>0</td>\n",
       "      <td>0.556612</td>\n",
       "      <td>1</td>\n",
       "    </tr>\n",
       "    <tr>\n",
       "      <th>183</th>\n",
       "      <td>1.51916</td>\n",
       "      <td>2.09</td>\n",
       "      <td>1</td>\n",
       "      <td>0.561624</td>\n",
       "      <td>1</td>\n",
       "    </tr>\n",
       "    <tr>\n",
       "      <th>107</th>\n",
       "      <td>1.53125</td>\n",
       "      <td>2.10</td>\n",
       "      <td>0</td>\n",
       "      <td>0.566636</td>\n",
       "      <td>1</td>\n",
       "    </tr>\n",
       "  </tbody>\n",
       "</table>\n",
       "</div>"
      ],
      "text/plain": [
       "          ri    al  household  household_linear_pred  \\\n",
       "id                                                     \n",
       "186  1.51131  1.81          1               0.421294   \n",
       "118  1.51708  1.81          0               0.421294   \n",
       "208  1.51831  1.82          1               0.426306   \n",
       "169  1.51666  1.83          1               0.431318   \n",
       "165  1.51915  1.86          1               0.446353   \n",
       "207  1.51645  1.87          1               0.451365   \n",
       "90   1.51640  1.87          0               0.451365   \n",
       "106  1.52475  1.88          0               0.456377   \n",
       "80   1.51590  1.90          0               0.466400   \n",
       "213  1.51651  1.94          1               0.486447   \n",
       "195  1.51683  1.98          1               0.506494   \n",
       "211  1.51685  1.99          1               0.511506   \n",
       "204  1.51658  1.99          1               0.511506   \n",
       "194  1.51719  2.00          1               0.516518   \n",
       "212  1.52065  2.02          1               0.526541   \n",
       "189  1.52247  2.06          1               0.546588   \n",
       "214  1.51711  2.08          1               0.556612   \n",
       "85   1.51409  2.08          0               0.556612   \n",
       "183  1.51916  2.09          1               0.561624   \n",
       "107  1.53125  2.10          0               0.566636   \n",
       "\n",
       "     household_linear_pred_class  \n",
       "id                                \n",
       "186                            0  \n",
       "118                            0  \n",
       "208                            0  \n",
       "169                            0  \n",
       "165                            0  \n",
       "207                            0  \n",
       "90                             0  \n",
       "106                            0  \n",
       "80                             0  \n",
       "213                            0  \n",
       "195                            1  \n",
       "211                            1  \n",
       "204                            1  \n",
       "194                            1  \n",
       "212                            1  \n",
       "189                            1  \n",
       "214                            1  \n",
       "85                             1  \n",
       "183                            1  \n",
       "107                            1  "
      ]
     },
     "execution_count": 17,
     "metadata": {},
     "output_type": "execute_result"
    }
   ],
   "source": [
    "# transform household_pred to 1 or 0\n",
    "glass['household_linear_pred_class'] = np.where(glass.household_linear_pred >= 0.5, 1, 0)\n",
    "glass[['ri', 'al', 'household', 'household_linear_pred', 'household_linear_pred_class']][glass['al']>1.8].head(20)"
   ]
  },
  {
   "cell_type": "code",
   "execution_count": 18,
   "metadata": {},
   "outputs": [
    {
     "data": {
      "text/plain": [
       "Text(0,0.5,'household')"
      ]
     },
     "execution_count": 18,
     "metadata": {},
     "output_type": "execute_result"
    },
    {
     "data": {
      "image/png": "[encoded data removed]",
      "text/plain": [
       "<Figure size 432x288 with 1 Axes>"
      ]
     },
     "metadata": {
      "needs_background": "light"
     },
     "output_type": "display_data"
    }
   ],
   "source": [
    "# plot the class predictions\n",
    "plt.scatter(glass.al, glass.household, alpha=0.3)\n",
    "plt.plot(glass.al, glass.household_linear_pred_class, color='green')\n",
    "plt.xlabel('al')\n",
    "plt.ylabel('household')"
   ]
  },
  {
   "cell_type": "code",
   "execution_count": 19,
   "metadata": {},
   "outputs": [
    {
     "data": {
      "text/plain": [
       "0.8644859813084113"
      ]
     },
     "execution_count": 19,
     "metadata": {},
     "output_type": "execute_result"
    }
   ],
   "source": [
    "### Linear Regression Prediction Accuracy\n",
    "\n",
    "glass[glass['household']==glass['household_linear_pred_class']].shape[0] / float(glass.shape[0])"
   ]
  },
  {
   "cell_type": "markdown",
   "metadata": {},
   "source": [
    "### Fit a Logistic Regression"
   ]
  },
  {
   "cell_type": "code",
   "execution_count": 20,
   "metadata": {},
   "outputs": [],
   "source": [
    "# fit a logistic regression model and store the class predictions\n",
    "from sklearn.linear_model import LogisticRegression\n",
    "logreg = LogisticRegression()\n",
    "predictor = ['al']\n",
    "X = glass[predictor]\n",
    "y = glass.household\n",
    "logreg.fit(X, y)\n",
    "glass['household_logistic_pred_class'] = logreg.predict(X)"
   ]
  },
  {
   "cell_type": "code",
   "execution_count": 21,
   "metadata": {},
   "outputs": [
    {
     "data": {
      "text/plain": [
       "Text(0,0.5,'household')"
      ]
     },
     "execution_count": 21,
     "metadata": {},
     "output_type": "execute_result"
    },
    {
     "data": {
      "image/png": "[encoded data removed]",
      "text/plain": [
       "<Figure size 432x288 with 1 Axes>"
      ]
     },
     "metadata": {
      "needs_background": "light"
     },
     "output_type": "display_data"
    }
   ],
   "source": [
    "# plot the class predictions\n",
    "plt.scatter(glass.al, glass.household, alpha=0.3)\n",
    "plt.plot(glass.al, glass.household_logistic_pred_class, color='purple')\n",
    "plt.xlabel('al')\n",
    "plt.ylabel('household')"
   ]
  },
  {
   "cell_type": "code",
   "execution_count": 22,
   "metadata": {},
   "outputs": [
    {
     "data": {
      "text/plain": [
       "0.8411214953271028"
      ]
     },
     "execution_count": 22,
     "metadata": {},
     "output_type": "execute_result"
    }
   ],
   "source": [
    "### Logistic Regression Prediction Accuracy\n",
    "glass[glass['household']==glass['household_logistic_pred_class']].shape[0] / float(glass.shape[0])"
   ]
  },
  {
   "cell_type": "markdown",
   "metadata": {},
   "source": [
    "### Predicted Probabilities"
   ]
  },
  {
   "cell_type": "code",
   "execution_count": 28,
   "metadata": {},
   "outputs": [],
   "source": [
    "# store the predicted probabilites of class 1\n",
    "glass['household_logistic_pred_prob'] = logreg.predict_proba(X)[:, 1]"
   ]
  },
  {
   "cell_type": "code",
   "execution_count": 23,
   "metadata": {},
   "outputs": [
    {
     "data": {
      "text/plain": [
       "LogisticRegression(C=1.0, class_weight=None, dual=False, fit_intercept=True,\n",
       "          intercept_scaling=1, max_iter=100, multi_class='ovr', n_jobs=1,\n",
       "          penalty='l2', random_state=None, solver='liblinear', tol=0.0001,\n",
       "          verbose=0, warm_start=False)"
      ]
     },
     "execution_count": 23,
     "metadata": {},
     "output_type": "execute_result"
    }
   ],
   "source": [
    "logreg # model that we fit our data to"
   ]
  },
  {
   "cell_type": "code",
   "execution_count": 24,
   "metadata": {
    "collapsed": true
   },
   "outputs": [
    {
     "data": {
      "text/plain": [
       "array([0, 0, 0, 0, 0, 0, 0, 0, 0, 0, 0, 0, 0, 0, 0, 0, 0, 0, 0, 0, 0, 0,\n",
       "       0, 0, 0, 0, 0, 0, 0, 0, 0, 0, 0, 0, 0, 0, 0, 0, 0, 0, 0, 0, 0, 0,\n",
       "       0, 0, 0, 0, 0, 0, 0, 0, 0, 0, 0, 0, 0, 0, 0, 0, 0, 0, 0, 0, 0, 0,\n",
       "       0, 0, 0, 0, 0, 0, 0, 0, 0, 0, 0, 0, 0, 0, 0, 0, 0, 0, 0, 0, 0, 0,\n",
       "       0, 0, 0, 0, 0, 0, 0, 0, 0, 0, 0, 0, 0, 0, 0, 0, 0, 0, 0, 0, 0, 0,\n",
       "       0, 0, 0, 0, 0, 0, 0, 0, 0, 0, 0, 0, 0, 0, 0, 0, 0, 0, 0, 0, 0, 0,\n",
       "       0, 0, 0, 0, 0, 0, 0, 0, 0, 0, 0, 0, 0, 0, 0, 0, 0, 0, 0, 0, 0, 0,\n",
       "       0, 0, 0, 0, 0, 0, 0, 0, 0, 0, 0, 0, 0, 0, 0, 0, 0, 0, 0, 0, 0, 0,\n",
       "       0, 0, 0, 0, 0, 0, 0, 0, 0, 0, 0, 0, 0, 0, 0, 1, 1, 1, 1, 1, 1, 1,\n",
       "       1, 1, 1, 1, 1, 1, 1, 1, 1, 1, 1, 1, 1, 1, 1, 1], dtype=int64)"
      ]
     },
     "execution_count": 24,
     "metadata": {},
     "output_type": "execute_result"
    }
   ],
   "source": [
    "logreg.predict(X) # giving you the 0s and 1s, above and below 0.5"
   ]
  },
  {
   "cell_type": "code",
   "execution_count": 25,
   "metadata": {
    "collapsed": true
   },
   "outputs": [
    {
     "data": {
      "text/plain": [
       "array([[0.97193375, 0.02806625],\n",
       "       [0.96905681, 0.03094319],\n",
       "       [0.96017962, 0.03982038],\n",
       "       [0.96017962, 0.03982038],\n",
       "       [0.9569876 , 0.0430124 ],\n",
       "       [0.95265323, 0.04734677],\n",
       "       [0.95265323, 0.04734677],\n",
       "       [0.95080573, 0.04919427],\n",
       "       [0.94378757, 0.05621243],\n",
       "       [0.94271112, 0.05728888],\n",
       "       [0.94161533, 0.05838467],\n",
       "       [0.93703277, 0.06296723],\n",
       "       [0.93583576, 0.06416424],\n",
       "       [0.93211646, 0.06788354],\n",
       "       [0.93211646, 0.06788354],\n",
       "       [0.92952688, 0.07047312],\n",
       "       [0.92819811, 0.07180189],\n",
       "       [0.92684626, 0.07315374],\n",
       "       [0.92264896, 0.07735104],\n",
       "       [0.9212015 , 0.0787985 ],\n",
       "       [0.9212015 , 0.0787985 ],\n",
       "       [0.91516104, 0.08483896],\n",
       "       [0.91516104, 0.08483896],\n",
       "       [0.91358659, 0.08641341],\n",
       "       [0.91198573, 0.08801427],\n",
       "       [0.91035812, 0.08964188],\n",
       "       [0.91035812, 0.08964188],\n",
       "       [0.90870343, 0.09129657],\n",
       "       [0.89253652, 0.10746348],\n",
       "       [0.89253652, 0.10746348],\n",
       "       [0.88250481, 0.11749519],\n",
       "       [0.88040352, 0.11959648],\n",
       "       [0.87826983, 0.12173017],\n",
       "       [0.87610344, 0.12389656],\n",
       "       [0.87167128, 0.12832872],\n",
       "       [0.86940491, 0.13059509],\n",
       "       [0.86940491, 0.13059509],\n",
       "       [0.86940491, 0.13059509],\n",
       "       [0.86710462, 0.13289538],\n",
       "       [0.86710462, 0.13289538],\n",
       "       [0.86710462, 0.13289538],\n",
       "       [0.86240111, 0.13759889],\n",
       "       [0.86240111, 0.13759889],\n",
       "       [0.85999733, 0.14000267],\n",
       "       [0.85999733, 0.14000267],\n",
       "       [0.85755848, 0.14244152],\n",
       "       [0.85755848, 0.14244152],\n",
       "       [0.85508431, 0.14491569],\n",
       "       [0.85508431, 0.14491569],\n",
       "       [0.85257455, 0.14742545],\n",
       "       [0.85257455, 0.14742545],\n",
       "       [0.85257455, 0.14742545],\n",
       "       [0.85002895, 0.14997105],\n",
       "       [0.85002895, 0.14997105],\n",
       "       [0.85002895, 0.14997105],\n",
       "       [0.85002895, 0.14997105],\n",
       "       [0.85002895, 0.14997105],\n",
       "       [0.85002895, 0.14997105],\n",
       "       [0.84744726, 0.15255274],\n",
       "       [0.84482923, 0.15517077],\n",
       "       [0.84482923, 0.15517077],\n",
       "       [0.84217465, 0.15782535],\n",
       "       [0.83948328, 0.16051672],\n",
       "       [0.83948328, 0.16051672],\n",
       "       [0.83948328, 0.16051672],\n",
       "       [0.83948328, 0.16051672],\n",
       "       [0.83948328, 0.16051672],\n",
       "       [0.83675492, 0.16324508],\n",
       "       [0.83675492, 0.16324508],\n",
       "       [0.83398935, 0.16601065],\n",
       "       [0.83398935, 0.16601065],\n",
       "       [0.83398935, 0.16601065],\n",
       "       [0.83118637, 0.16881363],\n",
       "       [0.83118637, 0.16881363],\n",
       "       [0.83118637, 0.16881363],\n",
       "       [0.82834582, 0.17165418],\n",
       "       [0.82834582, 0.17165418],\n",
       "       [0.82834582, 0.17165418],\n",
       "       [0.8254675 , 0.1745325 ],\n",
       "       [0.8254675 , 0.1745325 ],\n",
       "       [0.8254675 , 0.1745325 ],\n",
       "       [0.8254675 , 0.1745325 ],\n",
       "       [0.82255126, 0.17744874],\n",
       "       [0.82255126, 0.17744874],\n",
       "       [0.82255126, 0.17744874],\n",
       "       [0.82255126, 0.17744874],\n",
       "       [0.82255126, 0.17744874],\n",
       "       [0.81959694, 0.18040306],\n",
       "       [0.81959694, 0.18040306],\n",
       "       [0.8166044 , 0.1833956 ],\n",
       "       [0.8166044 , 0.1833956 ],\n",
       "       [0.8166044 , 0.1833956 ],\n",
       "       [0.81357351, 0.18642649],\n",
       "       [0.81357351, 0.18642649],\n",
       "       [0.81357351, 0.18642649],\n",
       "       [0.81050416, 0.18949584],\n",
       "       [0.81050416, 0.18949584],\n",
       "       [0.81050416, 0.18949584],\n",
       "       [0.80739623, 0.19260377],\n",
       "       [0.80739623, 0.19260377],\n",
       "       [0.80424964, 0.19575036],\n",
       "       [0.80424964, 0.19575036],\n",
       "       [0.80424964, 0.19575036],\n",
       "       [0.80424964, 0.19575036],\n",
       "       [0.80106431, 0.19893569],\n",
       "       [0.80106431, 0.19893569],\n",
       "       [0.80106431, 0.19893569],\n",
       "       [0.80106431, 0.19893569],\n",
       "       [0.79784018, 0.20215982],\n",
       "       [0.7945772 , 0.2054228 ],\n",
       "       [0.7945772 , 0.2054228 ],\n",
       "       [0.78793454, 0.21206546],\n",
       "       [0.78793454, 0.21206546],\n",
       "       [0.78455484, 0.21544516],\n",
       "       [0.78455484, 0.21544516],\n",
       "       [0.77767878, 0.22232122],\n",
       "       [0.77767878, 0.22232122],\n",
       "       [0.77767878, 0.22232122],\n",
       "       [0.77767878, 0.22232122],\n",
       "       [0.77767878, 0.22232122],\n",
       "       [0.77418248, 0.22581752],\n",
       "       [0.77418248, 0.22581752],\n",
       "       [0.77064741, 0.22935259],\n",
       "       [0.76346131, 0.23653869],\n",
       "       [0.76346131, 0.23653869],\n",
       "       [0.76346131, 0.23653869],\n",
       "       [0.75981048, 0.24018952],\n",
       "       [0.75981048, 0.24018952],\n",
       "       [0.7561213 , 0.2438787 ],\n",
       "       [0.7561213 , 0.2438787 ],\n",
       "       [0.7561213 , 0.2438787 ],\n",
       "       [0.74862851, 0.25137149],\n",
       "       [0.74862851, 0.25137149],\n",
       "       [0.74482526, 0.25517474],\n",
       "       [0.74482526, 0.25517474],\n",
       "       [0.74482526, 0.25517474],\n",
       "       [0.74098438, 0.25901562],\n",
       "       [0.73710609, 0.26289391],\n",
       "       [0.73710609, 0.26289391],\n",
       "       [0.73710609, 0.26289391],\n",
       "       [0.73710609, 0.26289391],\n",
       "       [0.73710609, 0.26289391],\n",
       "       [0.73710609, 0.26289391],\n",
       "       [0.73710609, 0.26289391],\n",
       "       [0.73710609, 0.26289391],\n",
       "       [0.73319064, 0.26680936],\n",
       "       [0.7292383 , 0.2707617 ],\n",
       "       [0.7292383 , 0.2707617 ],\n",
       "       [0.7292383 , 0.2707617 ],\n",
       "       [0.7292383 , 0.2707617 ],\n",
       "       [0.7292383 , 0.2707617 ],\n",
       "       [0.72524935, 0.27475065],\n",
       "       [0.72524935, 0.27475065],\n",
       "       [0.72122409, 0.27877591],\n",
       "       [0.72122409, 0.27877591],\n",
       "       [0.7089339 , 0.2910661 ],\n",
       "       [0.70476692, 0.29523308],\n",
       "       [0.70476692, 0.29523308],\n",
       "       [0.70476692, 0.29523308],\n",
       "       [0.70056548, 0.29943452],\n",
       "       [0.70056548, 0.29943452],\n",
       "       [0.70056548, 0.29943452],\n",
       "       [0.69633002, 0.30366998],\n",
       "       [0.69206097, 0.30793903],\n",
       "       [0.68775883, 0.31224117],\n",
       "       [0.68342407, 0.31657593],\n",
       "       [0.67465881, 0.32534119],\n",
       "       [0.66576954, 0.33423046],\n",
       "       [0.66576954, 0.33423046],\n",
       "       [0.65221348, 0.34778652],\n",
       "       [0.65221348, 0.34778652],\n",
       "       [0.64303542, 0.35696458],\n",
       "       [0.64303542, 0.35696458],\n",
       "       [0.62907102, 0.37092898],\n",
       "       [0.62907102, 0.37092898],\n",
       "       [0.62436651, 0.37563349],\n",
       "       [0.6196384 , 0.3803616 ],\n",
       "       [0.6196384 , 0.3803616 ],\n",
       "       [0.6148875 , 0.3851125 ],\n",
       "       [0.61011458, 0.38988542],\n",
       "       [0.5956721 , 0.4043279 ],\n",
       "       [0.59081952, 0.40918048],\n",
       "       [0.59081952, 0.40918048],\n",
       "       [0.58594918, 0.41405082],\n",
       "       [0.57615882, 0.42384118],\n",
       "       [0.55640511, 0.44359489],\n",
       "       [0.53647142, 0.46352858],\n",
       "       [0.53146719, 0.46853281],\n",
       "       [0.53146719, 0.46853281],\n",
       "       [0.52645662, 0.47354338],\n",
       "       [0.5164205 , 0.4835795 ],\n",
       "       [0.49631656, 0.50368344],\n",
       "       [0.48626499, 0.51373501],\n",
       "       [0.48626499, 0.51373501],\n",
       "       [0.48124287, 0.51875713],\n",
       "       [0.47622453, 0.52377547],\n",
       "       [0.46620324, 0.53379676],\n",
       "       [0.44128637, 0.55871363],\n",
       "       [0.41666172, 0.58333828],\n",
       "       [0.40207605, 0.59792395],\n",
       "       [0.392446  , 0.607554  ],\n",
       "       [0.35943632, 0.64056368],\n",
       "       [0.34113258, 0.65886742],\n",
       "       [0.3232905 , 0.6767095 ],\n",
       "       [0.28502311, 0.71497689],\n",
       "       [0.27288986, 0.72711014],\n",
       "       [0.22770273, 0.77229727],\n",
       "       [0.22070745, 0.77929255],\n",
       "       [0.20065464, 0.79934536],\n",
       "       [0.18501129, 0.81498871],\n",
       "       [0.1592597 , 0.8407403 ],\n",
       "       [0.12506835, 0.87493165],\n",
       "       [0.12073321, 0.87926679],\n",
       "       [0.05163396, 0.94836604]])"
      ]
     },
     "execution_count": 25,
     "metadata": {},
     "output_type": "execute_result"
    }
   ],
   "source": [
    "logreg.predict_proba(X) # first column = prob of it being 0, second column prob of it being 1"
   ]
  },
  {
   "cell_type": "code",
   "execution_count": 26,
   "metadata": {},
   "outputs": [
    {
     "data": {
      "text/plain": [
       "array([0.02806625, 0.03094319, 0.03982038, 0.03982038, 0.0430124 ,\n",
       "       0.04734677, 0.04734677, 0.04919427, 0.05621243, 0.05728888,\n",
       "       0.05838467, 0.06296723, 0.06416424, 0.06788354, 0.06788354,\n",
       "       0.07047312, 0.07180189, 0.07315374, 0.07735104, 0.0787985 ,\n",
       "       0.0787985 , 0.08483896, 0.08483896, 0.08641341, 0.08801427,\n",
       "       0.08964188, 0.08964188, 0.09129657, 0.10746348, 0.10746348,\n",
       "       0.11749519, 0.11959648, 0.12173017, 0.12389656, 0.12832872,\n",
       "       0.13059509, 0.13059509, 0.13059509, 0.13289538, 0.13289538,\n",
       "       0.13289538, 0.13759889, 0.13759889, 0.14000267, 0.14000267,\n",
       "       0.14244152, 0.14244152, 0.14491569, 0.14491569, 0.14742545,\n",
       "       0.14742545, 0.14742545, 0.14997105, 0.14997105, 0.14997105,\n",
       "       0.14997105, 0.14997105, 0.14997105, 0.15255274, 0.15517077,\n",
       "       0.15517077, 0.15782535, 0.16051672, 0.16051672, 0.16051672,\n",
       "       0.16051672, 0.16051672, 0.16324508, 0.16324508, 0.16601065,\n",
       "       0.16601065, 0.16601065, 0.16881363, 0.16881363, 0.16881363,\n",
       "       0.17165418, 0.17165418, 0.17165418, 0.1745325 , 0.1745325 ,\n",
       "       0.1745325 , 0.1745325 , 0.17744874, 0.17744874, 0.17744874,\n",
       "       0.17744874, 0.17744874, 0.18040306, 0.18040306, 0.1833956 ,\n",
       "       0.1833956 , 0.1833956 , 0.18642649, 0.18642649, 0.18642649,\n",
       "       0.18949584, 0.18949584, 0.18949584, 0.19260377, 0.19260377,\n",
       "       0.19575036, 0.19575036, 0.19575036, 0.19575036, 0.19893569,\n",
       "       0.19893569, 0.19893569, 0.19893569, 0.20215982, 0.2054228 ,\n",
       "       0.2054228 , 0.21206546, 0.21206546, 0.21544516, 0.21544516,\n",
       "       0.22232122, 0.22232122, 0.22232122, 0.22232122, 0.22232122,\n",
       "       0.22581752, 0.22581752, 0.22935259, 0.23653869, 0.23653869,\n",
       "       0.23653869, 0.24018952, 0.24018952, 0.2438787 , 0.2438787 ,\n",
       "       0.2438787 , 0.25137149, 0.25137149, 0.25517474, 0.25517474,\n",
       "       0.25517474, 0.25901562, 0.26289391, 0.26289391, 0.26289391,\n",
       "       0.26289391, 0.26289391, 0.26289391, 0.26289391, 0.26289391,\n",
       "       0.26680936, 0.2707617 , 0.2707617 , 0.2707617 , 0.2707617 ,\n",
       "       0.2707617 , 0.27475065, 0.27475065, 0.27877591, 0.27877591,\n",
       "       0.2910661 , 0.29523308, 0.29523308, 0.29523308, 0.29943452,\n",
       "       0.29943452, 0.29943452, 0.30366998, 0.30793903, 0.31224117,\n",
       "       0.31657593, 0.32534119, 0.33423046, 0.33423046, 0.34778652,\n",
       "       0.34778652, 0.35696458, 0.35696458, 0.37092898, 0.37092898,\n",
       "       0.37563349, 0.3803616 , 0.3803616 , 0.3851125 , 0.38988542,\n",
       "       0.4043279 , 0.40918048, 0.40918048, 0.41405082, 0.42384118,\n",
       "       0.44359489, 0.46352858, 0.46853281, 0.46853281, 0.47354338,\n",
       "       0.4835795 , 0.50368344, 0.51373501, 0.51373501, 0.51875713,\n",
       "       0.52377547, 0.53379676, 0.55871363, 0.58333828, 0.59792395,\n",
       "       0.607554  , 0.64056368, 0.65886742, 0.6767095 , 0.71497689,\n",
       "       0.72711014, 0.77229727, 0.77929255, 0.79934536, 0.81498871,\n",
       "       0.8407403 , 0.87493165, 0.87926679, 0.94836604])"
      ]
     },
     "execution_count": 26,
     "metadata": {},
     "output_type": "execute_result"
    }
   ],
   "source": [
    "logreg.predict_proba(X)[:,1]"
   ]
  },
  {
   "cell_type": "code",
   "execution_count": 29,
   "metadata": {},
   "outputs": [
    {
     "data": {
      "text/plain": [
       "Text(0,0.5,'household')"
      ]
     },
     "execution_count": 29,
     "metadata": {},
     "output_type": "execute_result"
    },
    {
     "data": {
      "image/png": "[encoded data removed]",
      "text/plain": [
       "<Figure size 432x288 with 1 Axes>"
      ]
     },
     "metadata": {
      "needs_background": "light"
     },
     "output_type": "display_data"
    }
   ],
   "source": [
    "# plot the predicted probabilities\n",
    "plt.scatter(glass.al, glass.household, alpha=0.5)\n",
    "plt.plot(glass.al, glass.household_logistic_pred_prob, color='purple', alpha=0.7)\n",
    "plt.xlabel('al')\n",
    "plt.ylabel('household')"
   ]
  },
  {
   "cell_type": "code",
   "execution_count": 30,
   "metadata": {},
   "outputs": [
    {
     "name": "stdout",
     "output_type": "stream",
     "text": [
      "[[0.89253652 0.10746348]]\n",
      "[[0.52645662 0.47354338]]\n",
      "[[0.12953623 0.87046377]]\n"
     ]
    }
   ],
   "source": [
    "# Create Predictions\n",
    "# In the predict_proba output, the first column indicates the predicted probability of class 0, \n",
    "# and the second column indicates the predicted probability of class 1.\n",
    "print (logreg.predict_proba(1))\n",
    "print (logreg.predict_proba(2))\n",
    "print (logreg.predict_proba(3))"
   ]
  },
  {
   "cell_type": "markdown",
   "metadata": {},
   "source": [
    "### Understanding Odds, Log-Odds and Probabilities"
   ]
  },
  {
   "cell_type": "markdown",
   "metadata": {},
   "source": [
    "$$ odds = \\frac{one \\ outcome}{all \\ other \\ outcome}$$\n",
    "\n",
    "$$ probability = \\frac{odds}{1 + odds}$$\n",
    "Dice roll of 1: probability = 1/6, odds = 1/5   \n",
    "Even dice roll: probability = 3/6, odds = 3/3 = 1   \n",
    "Dice roll less than 5: probability = 4/6, odds = 4/2 = 2   "
   ]
  },
  {
   "cell_type": "code",
   "execution_count": 31,
   "metadata": {},
   "outputs": [
    {
     "data": {
      "text/html": [
       "<div>\n",
       "<style scoped>\n",
       "    .dataframe tbody tr th:only-of-type {\n",
       "        vertical-align: middle;\n",
       "    }\n",
       "\n",
       "    .dataframe tbody tr th {\n",
       "        vertical-align: top;\n",
       "    }\n",
       "\n",
       "    .dataframe thead th {\n",
       "        text-align: right;\n",
       "    }\n",
       "</style>\n",
       "<table border=\"1\" class=\"dataframe\">\n",
       "  <thead>\n",
       "    <tr style=\"text-align: right;\">\n",
       "      <th></th>\n",
       "      <th>probability</th>\n",
       "      <th>odds</th>\n",
       "    </tr>\n",
       "  </thead>\n",
       "  <tbody>\n",
       "    <tr>\n",
       "      <th>0</th>\n",
       "      <td>0.10</td>\n",
       "      <td>0.111111</td>\n",
       "    </tr>\n",
       "    <tr>\n",
       "      <th>1</th>\n",
       "      <td>0.20</td>\n",
       "      <td>0.250000</td>\n",
       "    </tr>\n",
       "    <tr>\n",
       "      <th>2</th>\n",
       "      <td>0.25</td>\n",
       "      <td>0.333333</td>\n",
       "    </tr>\n",
       "    <tr>\n",
       "      <th>3</th>\n",
       "      <td>0.50</td>\n",
       "      <td>1.000000</td>\n",
       "    </tr>\n",
       "    <tr>\n",
       "      <th>4</th>\n",
       "      <td>0.60</td>\n",
       "      <td>1.500000</td>\n",
       "    </tr>\n",
       "    <tr>\n",
       "      <th>5</th>\n",
       "      <td>0.80</td>\n",
       "      <td>4.000000</td>\n",
       "    </tr>\n",
       "    <tr>\n",
       "      <th>6</th>\n",
       "      <td>0.90</td>\n",
       "      <td>9.000000</td>\n",
       "    </tr>\n",
       "  </tbody>\n",
       "</table>\n",
       "</div>"
      ],
      "text/plain": [
       "   probability      odds\n",
       "0         0.10  0.111111\n",
       "1         0.20  0.250000\n",
       "2         0.25  0.333333\n",
       "3         0.50  1.000000\n",
       "4         0.60  1.500000\n",
       "5         0.80  4.000000\n",
       "6         0.90  9.000000"
      ]
     },
     "execution_count": 31,
     "metadata": {},
     "output_type": "execute_result"
    }
   ],
   "source": [
    "\n",
    "# create a table of probability versus odds\n",
    "table = pd.DataFrame({'probability':[0.1, 0.2, 0.25, 0.5, 0.6, 0.8, 0.9]})\n",
    "table['odds'] = table.probability/(1 - table.probability)\n",
    "table"
   ]
  },
  {
   "cell_type": "code",
   "execution_count": 32,
   "metadata": {},
   "outputs": [
    {
     "data": {
      "text/html": [
       "<div>\n",
       "<style scoped>\n",
       "    .dataframe tbody tr th:only-of-type {\n",
       "        vertical-align: middle;\n",
       "    }\n",
       "\n",
       "    .dataframe tbody tr th {\n",
       "        vertical-align: top;\n",
       "    }\n",
       "\n",
       "    .dataframe thead th {\n",
       "        text-align: right;\n",
       "    }\n",
       "</style>\n",
       "<table border=\"1\" class=\"dataframe\">\n",
       "  <thead>\n",
       "    <tr style=\"text-align: right;\">\n",
       "      <th></th>\n",
       "      <th>probability</th>\n",
       "      <th>odds</th>\n",
       "      <th>logodds</th>\n",
       "    </tr>\n",
       "  </thead>\n",
       "  <tbody>\n",
       "    <tr>\n",
       "      <th>0</th>\n",
       "      <td>0.10</td>\n",
       "      <td>0.111111</td>\n",
       "      <td>-2.197225</td>\n",
       "    </tr>\n",
       "    <tr>\n",
       "      <th>1</th>\n",
       "      <td>0.20</td>\n",
       "      <td>0.250000</td>\n",
       "      <td>-1.386294</td>\n",
       "    </tr>\n",
       "    <tr>\n",
       "      <th>2</th>\n",
       "      <td>0.25</td>\n",
       "      <td>0.333333</td>\n",
       "      <td>-1.098612</td>\n",
       "    </tr>\n",
       "    <tr>\n",
       "      <th>3</th>\n",
       "      <td>0.50</td>\n",
       "      <td>1.000000</td>\n",
       "      <td>0.000000</td>\n",
       "    </tr>\n",
       "    <tr>\n",
       "      <th>4</th>\n",
       "      <td>0.60</td>\n",
       "      <td>1.500000</td>\n",
       "      <td>0.405465</td>\n",
       "    </tr>\n",
       "    <tr>\n",
       "      <th>5</th>\n",
       "      <td>0.80</td>\n",
       "      <td>4.000000</td>\n",
       "      <td>1.386294</td>\n",
       "    </tr>\n",
       "    <tr>\n",
       "      <th>6</th>\n",
       "      <td>0.90</td>\n",
       "      <td>9.000000</td>\n",
       "      <td>2.197225</td>\n",
       "    </tr>\n",
       "  </tbody>\n",
       "</table>\n",
       "</div>"
      ],
      "text/plain": [
       "   probability      odds   logodds\n",
       "0         0.10  0.111111 -2.197225\n",
       "1         0.20  0.250000 -1.386294\n",
       "2         0.25  0.333333 -1.098612\n",
       "3         0.50  1.000000  0.000000\n",
       "4         0.60  1.500000  0.405465\n",
       "5         0.80  4.000000  1.386294\n",
       "6         0.90  9.000000  2.197225"
      ]
     },
     "execution_count": 32,
     "metadata": {},
     "output_type": "execute_result"
    }
   ],
   "source": [
    "# add log-odds to the table\n",
    "table['logodds'] = np.log(table.odds)\n",
    "table"
   ]
  },
  {
   "cell_type": "markdown",
   "metadata": {},
   "source": [
    "### Logistic Regression and Log-Odds"
   ]
  },
  {
   "cell_type": "markdown",
   "metadata": {},
   "source": [
    "Logistic regression: log-odds of a categorical response being \"true\" (1) is modeled as a linear combination of the features:\n",
    "$$\\log \\left({p\\over 1-p}\\right) = \\theta_0 + \\theta_1x$$\n",
    "This is called the **logit** function.\n",
    "\n",
    "The equation can be rearranged into the logistic function:\n",
    "$$p = \\frac{e^{\\theta_0 + \\theta_1x}} {1 + e^{\\theta_0 + \\theta_1x}}$$"
   ]
  },
  {
   "cell_type": "code",
   "execution_count": 33,
   "metadata": {},
   "outputs": [
    {
     "data": {
      "text/plain": [
       "Text(0,0.5,'household')"
      ]
     },
     "execution_count": 33,
     "metadata": {},
     "output_type": "execute_result"
    },
    {
     "data": {
      "image/png": "[encoded data removed]",
      "text/plain": [
       "<Figure size 432x288 with 1 Axes>"
      ]
     },
     "metadata": {
      "needs_background": "light"
     },
     "output_type": "display_data"
    }
   ],
   "source": [
    "# plot the predicted probabilities\n",
    "plt.scatter(glass.al, glass.household, alpha=0.5)\n",
    "plt.plot(glass.al, glass.household_logistic_pred_prob, color='purple', alpha=0.7)\n",
    "plt.xlabel('al')\n",
    "plt.ylabel('household')"
   ]
  },
  {
   "cell_type": "code",
   "execution_count": 34,
   "metadata": {},
   "outputs": [
    {
     "data": {
      "text/plain": [
       "<zip at 0x211fcb31748>"
      ]
     },
     "execution_count": 34,
     "metadata": {},
     "output_type": "execute_result"
    }
   ],
   "source": [
    "# examine the coefficient for al\n",
    "## logreg = LogisticRegression()\n",
    "zip(predictor, logreg.coef_[0])   # theta 1"
   ]
  },
  {
   "cell_type": "code",
   "execution_count": 36,
   "metadata": {},
   "outputs": [
    {
     "data": {
      "text/plain": [
       "array([-4.12790736])"
      ]
     },
     "execution_count": 36,
     "metadata": {},
     "output_type": "execute_result"
    }
   ],
   "source": [
    "logreg.intercept_  # theta 0"
   ]
  },
  {
   "cell_type": "code",
   "execution_count": 37,
   "metadata": {},
   "outputs": [
    {
     "data": {
      "text/plain": [
       "array([-0.10592543])"
      ]
     },
     "execution_count": 37,
     "metadata": {},
     "output_type": "execute_result"
    }
   ],
   "source": [
    "# compute predicted log-odds for al=2 using the equation\n",
    "logodds = logreg.intercept_ + logreg.coef_[0] * 2\n",
    "logodds"
   ]
  },
  {
   "cell_type": "code",
   "execution_count": 38,
   "metadata": {},
   "outputs": [
    {
     "data": {
      "text/plain": [
       "array([0.89949172])"
      ]
     },
     "execution_count": 38,
     "metadata": {},
     "output_type": "execute_result"
    }
   ],
   "source": [
    "# convert log-odds to odds\n",
    "odds = np.exp(logodds)\n",
    "odds"
   ]
  },
  {
   "cell_type": "code",
   "execution_count": 40,
   "metadata": {},
   "outputs": [
    {
     "data": {
      "text/plain": [
       "array([0.47354338])"
      ]
     },
     "execution_count": 40,
     "metadata": {},
     "output_type": "execute_result"
    }
   ],
   "source": [
    "# convert odds to probability\n",
    "prob = odds/(1 + odds)\n",
    "prob"
   ]
  },
  {
   "cell_type": "code",
   "execution_count": 41,
   "metadata": {},
   "outputs": [
    {
     "data": {
      "text/plain": [
       "array([0.47354338])"
      ]
     },
     "execution_count": 41,
     "metadata": {},
     "output_type": "execute_result"
    }
   ],
   "source": [
    "# compute predicted probability for al=2 using the predict_proba method\n",
    "logreg.predict_proba(2)[:, 1]"
   ]
  },
  {
   "cell_type": "markdown",
   "metadata": {},
   "source": [
    "### Interpretation of Logistic Regression \n",
    "\n",
    "A 1 unit increase in variable 'al' is associated with a 4.18 unit increase in the **log-odds** of 'household'."
   ]
  },
  {
   "cell_type": "code",
   "execution_count": 42,
   "metadata": {},
   "outputs": [
    {
     "data": {
      "text/plain": [
       "array([0.47354338])"
      ]
     },
     "execution_count": 42,
     "metadata": {},
     "output_type": "execute_result"
    }
   ],
   "source": [
    "logreg.predict_proba(2)[:, 1]"
   ]
  },
  {
   "cell_type": "code",
   "execution_count": 43,
   "metadata": {},
   "outputs": [
    {
     "data": {
      "text/plain": [
       "array([0.87046377])"
      ]
     },
     "execution_count": 43,
     "metadata": {},
     "output_type": "execute_result"
    }
   ],
   "source": [
    "logreg.predict_proba(3)[:, 1]"
   ]
  },
  {
   "cell_type": "code",
   "execution_count": 44,
   "metadata": {},
   "outputs": [
    {
     "data": {
      "text/plain": [
       "array([0.87046377])"
      ]
     },
     "execution_count": 44,
     "metadata": {},
     "output_type": "execute_result"
    }
   ],
   "source": [
    "# compute predicted log-odds for al=2 using the equation\n",
    "logodds = logreg.intercept_ + logreg.coef_[0] * 3\n",
    "odds = np.exp(logodds)\n",
    "prob = odds/(1 + odds)\n",
    "prob"
   ]
  },
  {
   "cell_type": "code",
   "execution_count": 35,
   "metadata": {},
   "outputs": [],
   "source": [
    "# compute predicted probability for al=3 using the predict_proba method\n"
   ]
  },
  {
   "cell_type": "code",
   "execution_count": null,
   "metadata": {},
   "outputs": [],
   "source": []
  }
 ],
 "metadata": {
  "anaconda-cloud": {},
  "kernelspec": {
   "display_name": "Python 3",
   "language": "python",
   "name": "python3"
  },
  "language_info": {
   "codemirror_mode": {
    "name": "ipython",
    "version": 3
   },
   "file_extension": ".py",
   "mimetype": "text/x-python",
   "name": "python",
   "nbconvert_exporter": "python",
   "pygments_lexer": "ipython3",
   "version": "3.7.1"
  }
 },
 "nbformat": 4,
 "nbformat_minor": 2
}
