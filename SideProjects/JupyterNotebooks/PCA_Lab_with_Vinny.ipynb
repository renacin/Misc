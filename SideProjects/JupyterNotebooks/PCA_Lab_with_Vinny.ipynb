{
 "cells": [
  {
   "cell_type": "markdown",
   "metadata": {},
   "source": [
    "# PCA Lab: Wednesday March 20th, 2019"
   ]
  },
  {
   "cell_type": "code",
   "execution_count": 1,
   "metadata": {},
   "outputs": [],
   "source": [
    "import numpy as np\n",
    "import pandas as pd\n",
    "import matplotlib.pyplot as plt\n",
    "%matplotlib inline\n",
    "from scikitplot.metrics import plot_roc\n",
    "\n",
    "from sklearn.preprocessing import StandardScaler\n",
    "from sklearn.decomposition import PCA\n",
    "from sklearn.datasets import load_digits\n",
    "from sklearn.model_selection import train_test_split\n",
    "from sklearn.linear_model import LogisticRegression\n",
    "from sklearn.cluster import KMeans\n",
    "from sklearn.metrics import roc_auc_score"
   ]
  },
  {
   "cell_type": "code",
   "execution_count": 30,
   "metadata": {},
   "outputs": [],
   "source": [
    "digits = load_digits()\n",
    "\n",
    "X = digits.data\n",
    "\n",
    "y = digits.target"
   ]
  },
  {
   "cell_type": "code",
   "execution_count": 5,
   "metadata": {},
   "outputs": [
    {
     "data": {
      "text/html": [
       "<div>\n",
       "<style scoped>\n",
       "    .dataframe tbody tr th:only-of-type {\n",
       "        vertical-align: middle;\n",
       "    }\n",
       "\n",
       "    .dataframe tbody tr th {\n",
       "        vertical-align: top;\n",
       "    }\n",
       "\n",
       "    .dataframe thead th {\n",
       "        text-align: right;\n",
       "    }\n",
       "</style>\n",
       "<table border=\"1\" class=\"dataframe\">\n",
       "  <thead>\n",
       "    <tr style=\"text-align: right;\">\n",
       "      <th></th>\n",
       "      <th>0</th>\n",
       "      <th>1</th>\n",
       "      <th>2</th>\n",
       "      <th>3</th>\n",
       "      <th>4</th>\n",
       "      <th>5</th>\n",
       "      <th>6</th>\n",
       "      <th>7</th>\n",
       "      <th>8</th>\n",
       "      <th>9</th>\n",
       "      <th>...</th>\n",
       "      <th>54</th>\n",
       "      <th>55</th>\n",
       "      <th>56</th>\n",
       "      <th>57</th>\n",
       "      <th>58</th>\n",
       "      <th>59</th>\n",
       "      <th>60</th>\n",
       "      <th>61</th>\n",
       "      <th>62</th>\n",
       "      <th>63</th>\n",
       "    </tr>\n",
       "  </thead>\n",
       "  <tbody>\n",
       "    <tr>\n",
       "      <th>0</th>\n",
       "      <td>0.0</td>\n",
       "      <td>0.0</td>\n",
       "      <td>5.0</td>\n",
       "      <td>13.0</td>\n",
       "      <td>9.0</td>\n",
       "      <td>1.0</td>\n",
       "      <td>0.0</td>\n",
       "      <td>0.0</td>\n",
       "      <td>0.0</td>\n",
       "      <td>0.0</td>\n",
       "      <td>...</td>\n",
       "      <td>0.0</td>\n",
       "      <td>0.0</td>\n",
       "      <td>0.0</td>\n",
       "      <td>0.0</td>\n",
       "      <td>6.0</td>\n",
       "      <td>13.0</td>\n",
       "      <td>10.0</td>\n",
       "      <td>0.0</td>\n",
       "      <td>0.0</td>\n",
       "      <td>0.0</td>\n",
       "    </tr>\n",
       "    <tr>\n",
       "      <th>1</th>\n",
       "      <td>0.0</td>\n",
       "      <td>0.0</td>\n",
       "      <td>0.0</td>\n",
       "      <td>12.0</td>\n",
       "      <td>13.0</td>\n",
       "      <td>5.0</td>\n",
       "      <td>0.0</td>\n",
       "      <td>0.0</td>\n",
       "      <td>0.0</td>\n",
       "      <td>0.0</td>\n",
       "      <td>...</td>\n",
       "      <td>0.0</td>\n",
       "      <td>0.0</td>\n",
       "      <td>0.0</td>\n",
       "      <td>0.0</td>\n",
       "      <td>0.0</td>\n",
       "      <td>11.0</td>\n",
       "      <td>16.0</td>\n",
       "      <td>10.0</td>\n",
       "      <td>0.0</td>\n",
       "      <td>0.0</td>\n",
       "    </tr>\n",
       "    <tr>\n",
       "      <th>2</th>\n",
       "      <td>0.0</td>\n",
       "      <td>0.0</td>\n",
       "      <td>0.0</td>\n",
       "      <td>4.0</td>\n",
       "      <td>15.0</td>\n",
       "      <td>12.0</td>\n",
       "      <td>0.0</td>\n",
       "      <td>0.0</td>\n",
       "      <td>0.0</td>\n",
       "      <td>0.0</td>\n",
       "      <td>...</td>\n",
       "      <td>5.0</td>\n",
       "      <td>0.0</td>\n",
       "      <td>0.0</td>\n",
       "      <td>0.0</td>\n",
       "      <td>0.0</td>\n",
       "      <td>3.0</td>\n",
       "      <td>11.0</td>\n",
       "      <td>16.0</td>\n",
       "      <td>9.0</td>\n",
       "      <td>0.0</td>\n",
       "    </tr>\n",
       "    <tr>\n",
       "      <th>3</th>\n",
       "      <td>0.0</td>\n",
       "      <td>0.0</td>\n",
       "      <td>7.0</td>\n",
       "      <td>15.0</td>\n",
       "      <td>13.0</td>\n",
       "      <td>1.0</td>\n",
       "      <td>0.0</td>\n",
       "      <td>0.0</td>\n",
       "      <td>0.0</td>\n",
       "      <td>8.0</td>\n",
       "      <td>...</td>\n",
       "      <td>9.0</td>\n",
       "      <td>0.0</td>\n",
       "      <td>0.0</td>\n",
       "      <td>0.0</td>\n",
       "      <td>7.0</td>\n",
       "      <td>13.0</td>\n",
       "      <td>13.0</td>\n",
       "      <td>9.0</td>\n",
       "      <td>0.0</td>\n",
       "      <td>0.0</td>\n",
       "    </tr>\n",
       "    <tr>\n",
       "      <th>4</th>\n",
       "      <td>0.0</td>\n",
       "      <td>0.0</td>\n",
       "      <td>0.0</td>\n",
       "      <td>1.0</td>\n",
       "      <td>11.0</td>\n",
       "      <td>0.0</td>\n",
       "      <td>0.0</td>\n",
       "      <td>0.0</td>\n",
       "      <td>0.0</td>\n",
       "      <td>0.0</td>\n",
       "      <td>...</td>\n",
       "      <td>0.0</td>\n",
       "      <td>0.0</td>\n",
       "      <td>0.0</td>\n",
       "      <td>0.0</td>\n",
       "      <td>0.0</td>\n",
       "      <td>2.0</td>\n",
       "      <td>16.0</td>\n",
       "      <td>4.0</td>\n",
       "      <td>0.0</td>\n",
       "      <td>0.0</td>\n",
       "    </tr>\n",
       "  </tbody>\n",
       "</table>\n",
       "<p>5 rows × 64 columns</p>\n",
       "</div>"
      ],
      "text/plain": [
       "    0    1    2     3     4     5    6    7    8    9  ...    54   55   56  \\\n",
       "0  0.0  0.0  5.0  13.0   9.0   1.0  0.0  0.0  0.0  0.0 ...   0.0  0.0  0.0   \n",
       "1  0.0  0.0  0.0  12.0  13.0   5.0  0.0  0.0  0.0  0.0 ...   0.0  0.0  0.0   \n",
       "2  0.0  0.0  0.0   4.0  15.0  12.0  0.0  0.0  0.0  0.0 ...   5.0  0.0  0.0   \n",
       "3  0.0  0.0  7.0  15.0  13.0   1.0  0.0  0.0  0.0  8.0 ...   9.0  0.0  0.0   \n",
       "4  0.0  0.0  0.0   1.0  11.0   0.0  0.0  0.0  0.0  0.0 ...   0.0  0.0  0.0   \n",
       "\n",
       "    57   58    59    60    61   62   63  \n",
       "0  0.0  6.0  13.0  10.0   0.0  0.0  0.0  \n",
       "1  0.0  0.0  11.0  16.0  10.0  0.0  0.0  \n",
       "2  0.0  0.0   3.0  11.0  16.0  9.0  0.0  \n",
       "3  0.0  7.0  13.0  13.0   9.0  0.0  0.0  \n",
       "4  0.0  0.0   2.0  16.0   4.0  0.0  0.0  \n",
       "\n",
       "[5 rows x 64 columns]"
      ]
     },
     "execution_count": 5,
     "metadata": {},
     "output_type": "execute_result"
    }
   ],
   "source": [
    "pd.DataFrame(X).head()"
   ]
  },
  {
   "cell_type": "code",
   "execution_count": 11,
   "metadata": {},
   "outputs": [],
   "source": [
    "# digits (image.. each row represents one image)\n",
    "# columns represent pixels\n",
    "# 8 x 8 pixels (low resolution)"
   ]
  },
  {
   "cell_type": "code",
   "execution_count": 7,
   "metadata": {},
   "outputs": [
    {
     "data": {
      "text/plain": [
       "array([ 0.,  0.,  5., 13.,  9.,  1.,  0.,  0.,  0.,  0., 13., 15., 10.,\n",
       "       15.,  5.,  0.,  0.,  3., 15.,  2.,  0., 11.,  8.,  0.,  0.,  4.,\n",
       "       12.,  0.,  0.,  8.,  8.,  0.,  0.,  5.,  8.,  0.,  0.,  9.,  8.,\n",
       "        0.,  0.,  4., 11.,  0.,  1., 12.,  7.,  0.,  0.,  2., 14.,  5.,\n",
       "       10., 12.,  0.,  0.,  0.,  0.,  6., 13., 10.,  0.,  0.,  0.])"
      ]
     },
     "execution_count": 7,
     "metadata": {},
     "output_type": "execute_result"
    }
   ],
   "source": [
    "X[0]"
   ]
  },
  {
   "cell_type": "code",
   "execution_count": 8,
   "metadata": {},
   "outputs": [
    {
     "data": {
      "text/plain": [
       "array([[ 0.,  0.,  5., 13.,  9.,  1.,  0.,  0.],\n",
       "       [ 0.,  0., 13., 15., 10., 15.,  5.,  0.],\n",
       "       [ 0.,  3., 15.,  2.,  0., 11.,  8.,  0.],\n",
       "       [ 0.,  4., 12.,  0.,  0.,  8.,  8.,  0.],\n",
       "       [ 0.,  5.,  8.,  0.,  0.,  9.,  8.,  0.],\n",
       "       [ 0.,  4., 11.,  0.,  1., 12.,  7.,  0.],\n",
       "       [ 0.,  2., 14.,  5., 10., 12.,  0.,  0.],\n",
       "       [ 0.,  0.,  6., 13., 10.,  0.,  0.,  0.]])"
      ]
     },
     "execution_count": 8,
     "metadata": {},
     "output_type": "execute_result"
    }
   ],
   "source": [
    "X[0].reshape(8, 8)"
   ]
  },
  {
   "cell_type": "code",
   "execution_count": 9,
   "metadata": {},
   "outputs": [
    {
     "data": {
      "text/plain": [
       "<matplotlib.image.AxesImage at 0x23d1cd2c400>"
      ]
     },
     "execution_count": 9,
     "metadata": {},
     "output_type": "execute_result"
    },
    {
     "data": {
      "image/png": "[encoded data removed]",
      "text/plain": [
       "<Figure size 432x288 with 1 Axes>"
      ]
     },
     "metadata": {
      "needs_background": "light"
     },
     "output_type": "display_data"
    }
   ],
   "source": [
    "plt.imshow(X[0].reshape(8, 8))"
   ]
  },
  {
   "cell_type": "code",
   "execution_count": 10,
   "metadata": {},
   "outputs": [
    {
     "data": {
      "text/plain": [
       "0"
      ]
     },
     "execution_count": 10,
     "metadata": {},
     "output_type": "execute_result"
    }
   ],
   "source": [
    "y[0]"
   ]
  },
  {
   "cell_type": "markdown",
   "metadata": {},
   "source": [
    "# AUC ROC"
   ]
  },
  {
   "cell_type": "code",
   "execution_count": 15,
   "metadata": {},
   "outputs": [],
   "source": [
    "# ROC (Receiver Operating Characteristics)\n",
    "\n",
    "# x axis, false positive rate (specificity, the rate of false positive)\n",
    "# y axis, true positive rate (recall)"
   ]
  },
  {
   "cell_type": "code",
   "execution_count": 31,
   "metadata": {},
   "outputs": [],
   "source": [
    "new_y = (y == 0).astype(int)"
   ]
  },
  {
   "cell_type": "code",
   "execution_count": 32,
   "metadata": {},
   "outputs": [
    {
     "name": "stderr",
     "output_type": "stream",
     "text": [
      "C:\\Users\\Owner\\Anaconda3\\lib\\site-packages\\sklearn\\linear_model\\logistic.py:433: FutureWarning: Default solver will be changed to 'lbfgs' in 0.22. Specify a solver to silence this warning.\n",
      "  FutureWarning)\n",
      "C:\\Users\\Owner\\Anaconda3\\lib\\site-packages\\sklearn\\linear_model\\logistic.py:460: FutureWarning: Default multi_class will be changed to 'auto' in 0.22. Specify the multi_class option to silence this warning.\n",
      "  \"this warning.\", FutureWarning)\n"
     ]
    },
    {
     "name": "stdout",
     "output_type": "stream",
     "text": [
      "              precision    recall  f1-score   support\n",
      "\n",
      "           0       1.00      0.98      0.99        53\n",
      "           1       0.93      0.82      0.87        50\n",
      "           2       0.90      1.00      0.95        47\n",
      "           3       0.91      0.91      0.91        54\n",
      "           4       0.97      0.98      0.98        60\n",
      "           5       0.95      0.91      0.93        66\n",
      "           6       1.00      0.98      0.99        53\n",
      "           7       0.98      0.96      0.97        55\n",
      "           8       0.75      0.88      0.81        43\n",
      "           9       0.95      0.92      0.93        59\n",
      "\n",
      "   micro avg       0.94      0.94      0.94       540\n",
      "   macro avg       0.93      0.93      0.93       540\n",
      "weighted avg       0.94      0.94      0.94       540\n",
      "\n"
     ]
    }
   ],
   "source": [
    "X_train, X_test, y_train, y_test = train_test_split(X, y, test_size=0.3, random_state=42)\n",
    "\n",
    "scaler = StandardScaler()\n",
    "X_train = scaler.fit_transform(X_train)\n",
    "X_test = scaler.transform(X_test\n",
    "                         )\n",
    "model = LogisticRegression(C=1000000, random_state=42)\n",
    "\n",
    "model.fit(X_train,y_train)\n",
    "\n",
    "y_pred = model.predict(X_test)\n",
    "\n",
    "#model.score(X_test, y_test)\n",
    "\n",
    "print(classification_report(y_test,y_pred))"
   ]
  },
  {
   "cell_type": "code",
   "execution_count": 33,
   "metadata": {},
   "outputs": [
    {
     "data": {
      "text/plain": [
       "array([[2.02949535e-07, 1.16411184e-42, 2.01185745e-14, ...,\n",
       "        1.34020255e-10, 3.29270708e-05, 3.72800638e-24],\n",
       "       [2.37829826e-08, 5.57950904e-38, 3.08404127e-18, ...,\n",
       "        8.05015620e-16, 1.49218490e-06, 5.05692493e-01],\n",
       "       [7.69533433e-19, 3.16614051e-56, 3.44215579e-12, ...,\n",
       "        1.28058182e-08, 2.37645620e-03, 2.16712482e-28],\n",
       "       ...,\n",
       "       [9.99999938e-01, 8.37913986e-80, 9.36697631e-13, ...,\n",
       "        5.69295286e-08, 4.82696588e-09, 1.08659415e-33],\n",
       "       [1.77077456e-16, 8.75754833e-38, 1.27974313e-01, ...,\n",
       "        8.72024906e-01, 7.70693897e-07, 6.87542684e-29],\n",
       "       [2.66671645e-08, 2.40603089e-35, 8.97820372e-14, ...,\n",
       "        1.99042533e-16, 1.14729271e-01, 1.04031479e-41]])"
      ]
     },
     "execution_count": 33,
     "metadata": {},
     "output_type": "execute_result"
    }
   ],
   "source": [
    "model.predict_proba(X_test)"
   ]
  },
  {
   "cell_type": "code",
   "execution_count": 34,
   "metadata": {
    "collapsed": true
   },
   "outputs": [
    {
     "data": {
      "text/plain": [
       "array([1.16411184e-042, 5.57950904e-038, 3.16614051e-056, 1.23034520e-022,\n",
       "       1.15783647e-048, 6.78974987e-001, 5.70087493e-042, 4.92521967e-037,\n",
       "       2.56150211e-048, 5.99991028e-079, 4.12897365e-003, 1.06178874e-022,\n",
       "       1.24412608e-043, 1.91366753e-088, 8.46033207e-111, 2.21591871e-072,\n",
       "       1.08288403e-047, 7.33166170e-062, 5.38358633e-046, 1.09151881e-041,\n",
       "       3.51436736e-032, 1.34976962e-052, 4.99991553e-001, 3.49512460e-042,\n",
       "       4.92741823e-001, 2.28347849e-086, 3.55713789e-052, 5.30170568e-025,\n",
       "       1.26503186e-073, 2.42323452e-048, 1.85357296e-072, 2.11997093e-050,\n",
       "       9.71525988e-001, 1.26773714e-063, 1.34694980e-052, 1.14658379e-035,\n",
       "       1.96717489e-029, 9.57035221e-074, 2.92871603e-029, 2.36259698e-057,\n",
       "       1.44091956e-046, 5.57210508e-020, 9.81566241e-001, 8.25253152e-086,\n",
       "       9.19433450e-053, 9.97934275e-001, 3.41118001e-033, 7.09588444e-077,\n",
       "       7.57000659e-094, 9.07574513e-051, 1.39084360e-040, 9.88517706e-001,\n",
       "       7.23916327e-057, 6.08100844e-023, 1.61921355e-064, 4.49533111e-091,\n",
       "       4.79214723e-001, 1.57738895e-063, 6.01397163e-082, 9.98437984e-001,\n",
       "       4.23957428e-088, 1.84223978e-056, 8.78100428e-004, 4.68072680e-039,\n",
       "       7.96524308e-039, 2.22699127e-055, 2.92868980e-059, 7.84060390e-010,\n",
       "       6.90205191e-061, 8.75203717e-025, 5.57083484e-058, 3.64744935e-050,\n",
       "       1.10288065e-033, 5.94952761e-058, 1.59676656e-055, 2.21761951e-062,\n",
       "       3.95408916e-041, 9.55608983e-041, 3.46976797e-061, 3.34596599e-066,\n",
       "       7.56671524e-035, 1.79110941e-013, 7.28774120e-040, 8.17615475e-054,\n",
       "       6.33878331e-051, 6.69282969e-095, 5.55661647e-050, 4.98165623e-032,\n",
       "       5.38024767e-056, 3.86908591e-023, 9.04458397e-001, 9.46463596e-043,\n",
       "       2.60222739e-007, 2.18187467e-040, 1.01860717e-026, 3.34422678e-031,\n",
       "       5.34116933e-048, 1.81673595e-038, 1.47407548e-044, 1.72273381e-088,\n",
       "       4.51045358e-001, 5.78685454e-072, 3.24471324e-026, 3.24883583e-058,\n",
       "       9.99538057e-001, 3.33633423e-037, 3.52335166e-051, 5.19964773e-017,\n",
       "       2.92301416e-040, 8.63760791e-014, 6.71124441e-056, 1.73732573e-029,\n",
       "       8.75524757e-070, 1.56110181e-062, 9.99389821e-001, 9.77276024e-045,\n",
       "       6.75555455e-041, 1.77206387e-064, 2.53325870e-065, 5.92244692e-064,\n",
       "       1.17319134e-028, 2.33543287e-081, 4.87692633e-045, 3.50649710e-020,\n",
       "       8.86716714e-107, 2.50703143e-039, 2.73528970e-073, 1.66842995e-065,\n",
       "       4.53668145e-065, 2.79200593e-036, 3.45501739e-067, 4.99983743e-001,\n",
       "       2.39036205e-021, 1.60158132e-059, 2.22393745e-055, 3.14272491e-082,\n",
       "       4.73011640e-065, 2.71677510e-038, 1.98073482e-030, 2.50655774e-030,\n",
       "       2.21074491e-048, 9.13061852e-032, 9.13260430e-016, 2.47542349e-073,\n",
       "       2.80172738e-023, 6.02873421e-042, 4.09290921e-079, 3.63711262e-039,\n",
       "       2.35342308e-084, 6.17572789e-009, 1.45595291e-060, 9.69602807e-077,\n",
       "       1.75916210e-037, 1.48231939e-076, 7.07694946e-039, 9.79358703e-072,\n",
       "       5.30375034e-039, 5.92569229e-003, 3.61790503e-022, 2.84986384e-028,\n",
       "       2.46631950e-070, 1.03255531e-052, 6.02124007e-038, 5.83065355e-051,\n",
       "       2.49389608e-047, 1.07176269e-047, 1.03299466e-062, 6.08831759e-079,\n",
       "       1.90021839e-059, 2.02218391e-027, 1.39145691e-050, 2.67135855e-052,\n",
       "       2.42344642e-068, 5.46307201e-031, 9.86683672e-001, 2.71315603e-043,\n",
       "       6.64189606e-039, 3.17484281e-052, 1.00528551e-030, 4.59346478e-063,\n",
       "       1.51358083e-059, 3.90603138e-062, 5.91289069e-057, 1.55394397e-095,\n",
       "       7.71088864e-027, 7.55493827e-060, 3.09873964e-025, 4.25229296e-020,\n",
       "       5.21395724e-064, 1.05810956e-053, 7.62311216e-045, 2.66742651e-052,\n",
       "       9.99636717e-001, 6.60082089e-072, 2.91558122e-041, 5.32200089e-056,\n",
       "       1.64936548e-087, 4.85517822e-022, 5.93005969e-046, 2.44147323e-027,\n",
       "       6.23334552e-015, 2.43601852e-012, 2.18365323e-028, 4.33426559e-091,\n",
       "       1.65800007e-030, 2.44974090e-040, 1.69523251e-075, 6.94912370e-032,\n",
       "       9.99933526e-001, 8.54542692e-030, 2.08443700e-113, 8.95405147e-050,\n",
       "       1.71671129e-023, 3.82557556e-070, 3.91218082e-001, 5.28429118e-020,\n",
       "       9.85994895e-064, 3.05677227e-058, 1.51833396e-022, 3.53521356e-064,\n",
       "       2.79572209e-030, 4.73156283e-080, 8.16889678e-001, 9.18893648e-052,\n",
       "       4.13416096e-039, 7.52777528e-044, 9.11769773e-065, 8.61397521e-029,\n",
       "       1.94514333e-027, 2.62537281e-025, 1.10592466e-034, 1.45754985e-041,\n",
       "       3.55653839e-060, 9.98880284e-001, 2.12349425e-034, 8.59718068e-001,\n",
       "       6.42641991e-024, 1.62764109e-060, 2.95443020e-073, 1.95803565e-046,\n",
       "       1.68465352e-005, 5.15983649e-041, 3.90440586e-050, 9.96887816e-001,\n",
       "       3.37510676e-036, 1.13408692e-019, 6.88376868e-037, 7.86535273e-047,\n",
       "       1.91389511e-015, 2.74486174e-019, 1.81941704e-067, 2.53462871e-027,\n",
       "       9.91803687e-043, 5.94522820e-078, 1.22830972e-004, 5.39966677e-094,\n",
       "       2.73996747e-063, 3.17542724e-035, 1.17274321e-021, 4.62698179e-041,\n",
       "       7.26485984e-081, 3.28772222e-055, 1.18030066e-038, 2.86016780e-051,\n",
       "       9.02115721e-055, 3.71394865e-065, 9.99557286e-001, 1.30756717e-048,\n",
       "       3.13313246e-045, 2.22218078e-048, 7.25339361e-007, 6.08478770e-052,\n",
       "       4.43499760e-056, 4.60045167e-071, 5.84815694e-079, 1.08935816e-005,\n",
       "       9.97426130e-001, 4.28132949e-099, 6.48875295e-047, 3.91189873e-060,\n",
       "       3.69128766e-054, 2.44641123e-012, 7.19254127e-044, 4.66962475e-024,\n",
       "       2.40607865e-059, 5.00284766e-060, 5.02021982e-033, 1.93609189e-054,\n",
       "       5.34225216e-024, 2.82464933e-026, 1.06585316e-018, 3.94663280e-107,\n",
       "       1.15071733e-032, 7.57478029e-021, 6.42508517e-097, 5.75261088e-026,\n",
       "       1.42768158e-045, 7.78154339e-096, 1.80929543e-049, 1.46027152e-089,\n",
       "       1.28647069e-014, 4.24283669e-033, 3.67276996e-026, 4.39062333e-050,\n",
       "       1.91104076e-084, 1.35860100e-074, 3.75811243e-049, 4.21029028e-118,\n",
       "       3.70117041e-002, 5.20152651e-027, 9.99939650e-001, 7.67132436e-075,\n",
       "       9.99996535e-001, 8.46390558e-058, 8.11719907e-001, 9.02623589e-001,\n",
       "       1.98759026e-059, 9.18464439e-093, 6.82689710e-001, 1.39291897e-047,\n",
       "       2.01413206e-015, 5.17456283e-001, 4.13552335e-002, 1.36533341e-012,\n",
       "       1.91046140e-038, 3.04562507e-065, 2.22312082e-079, 3.13272514e-029,\n",
       "       1.59809400e-038, 2.43662246e-026, 4.69957296e-030, 9.99924269e-001,\n",
       "       3.82274291e-005, 1.48143911e-010, 1.42459579e-078, 1.50379335e-046,\n",
       "       7.90223609e-049, 1.09068572e-062, 2.91232997e-033, 1.39526319e-046,\n",
       "       2.93113958e-072, 3.78173841e-042, 1.86145042e-020, 5.20085255e-063,\n",
       "       5.03439999e-031, 2.94795492e-073, 8.15434345e-002, 8.11986512e-048,\n",
       "       2.86805204e-056, 4.48070762e-002, 1.38225528e-085, 6.72206585e-060,\n",
       "       9.96055866e-001, 1.64103473e-062, 6.00339457e-064, 2.49743299e-092,\n",
       "       3.46289900e-018, 1.11218412e-037, 1.31542170e-056, 3.83479551e-024,\n",
       "       4.10729266e-068, 5.63839101e-100, 2.72111812e-035, 1.64636494e-057,\n",
       "       3.22982149e-078, 1.78990032e-015, 3.46220468e-010, 1.73717083e-079,\n",
       "       4.53743071e-131, 9.66602515e-001, 4.01225920e-037, 2.86857951e-046,\n",
       "       2.63251926e-031, 1.31910748e-028, 8.37539569e-021, 4.22229777e-041,\n",
       "       8.61194633e-090, 6.95996147e-002, 1.81453019e-033, 8.12975809e-033,\n",
       "       2.81619585e-031, 5.74117788e-020, 9.40829385e-033, 8.64482276e-048,\n",
       "       1.05188231e-024, 4.83699955e-060, 1.84851965e-013, 3.14422635e-078,\n",
       "       5.20927257e-084, 1.12736832e-029, 2.11628106e-070, 8.72188172e-075,\n",
       "       1.79005574e-046, 9.95655725e-001, 9.27812950e-049, 3.64489052e-032,\n",
       "       9.69074176e-001, 9.55155577e-033, 9.99030795e-001, 6.03698680e-001,\n",
       "       2.22421980e-033, 1.73731154e-095, 1.87394089e-033, 2.37439098e-007,\n",
       "       1.78495237e-047, 5.45717467e-070, 1.27064296e-044, 7.70085296e-028,\n",
       "       4.99999425e-001, 9.99922216e-001, 9.00383889e-036, 6.29055805e-029,\n",
       "       5.90148526e-065, 8.64100731e-065, 2.68082971e-048, 3.41369167e-061,\n",
       "       4.19994995e-050, 3.86299624e-107, 1.62586305e-004, 4.04034557e-059,\n",
       "       6.31819636e-027, 2.13081307e-032, 3.47631888e-057, 1.42280110e-065,\n",
       "       8.54093661e-064, 4.42720661e-052, 2.61477877e-003, 1.46206314e-053,\n",
       "       2.27099237e-044, 7.63518159e-047, 1.30705362e-001, 3.10033952e-071,\n",
       "       7.91659607e-079, 1.47526109e-094, 1.71201213e-058, 3.63076476e-035,\n",
       "       7.84437782e-099, 4.84180216e-051, 2.22161525e-059, 3.26327241e-115,\n",
       "       9.99990717e-001, 2.76727210e-011, 2.63113242e-036, 1.00222175e-026,\n",
       "       4.99440005e-036, 5.34511590e-068, 4.77783415e-078, 2.86929960e-033,\n",
       "       6.14701035e-065, 7.60474502e-052, 5.37139905e-055, 4.47650216e-036,\n",
       "       2.54158648e-058, 1.97377540e-032, 1.14945853e-082, 5.29486083e-070,\n",
       "       3.09837994e-045, 8.50863639e-073, 2.51794361e-020, 1.08759643e-036,\n",
       "       1.64434234e-069, 5.32826924e-035, 1.37713157e-042, 8.08443639e-055,\n",
       "       1.43962931e-021, 4.74457732e-041, 3.39879555e-027, 4.36593921e-028,\n",
       "       1.97381225e-035, 2.24808885e-015, 9.63128176e-001, 2.91310831e-058,\n",
       "       1.41047527e-035, 6.52713071e-066, 5.45574116e-049, 8.78472913e-002,\n",
       "       9.99576102e-001, 2.76202833e-049, 3.98465659e-052, 9.99999241e-001,\n",
       "       8.36575230e-001, 2.42160854e-043, 1.72772813e-093, 2.82623672e-060,\n",
       "       7.73171733e-050, 3.03520648e-046, 7.22203201e-039, 5.63358768e-053,\n",
       "       9.88314025e-041, 4.56155166e-050, 2.00626834e-067, 7.63837869e-001,\n",
       "       1.54007670e-055, 3.47048830e-029, 8.08235200e-077, 6.60912757e-047,\n",
       "       1.64003108e-014, 5.33205488e-027, 9.99655937e-001, 3.12316161e-010,\n",
       "       1.11942178e-018, 8.69352900e-043, 6.20622949e-075, 2.92239418e-072,\n",
       "       1.39220365e-013, 1.13246420e-064, 5.15814094e-064, 3.71454097e-060,\n",
       "       1.22389888e-043, 8.73868622e-058, 3.57761926e-054, 9.94011007e-001,\n",
       "       1.32839671e-051, 9.98270523e-001, 1.66413903e-055, 8.14807614e-001,\n",
       "       3.23755295e-007, 1.86151781e-022, 9.99997769e-001, 8.34753588e-060,\n",
       "       2.73934645e-048, 2.33585548e-043, 4.99996364e-001, 6.93046382e-045,\n",
       "       3.77546571e-064, 3.07345650e-009, 4.58286511e-075, 2.57821490e-004,\n",
       "       2.70852877e-065, 3.07459745e-088, 1.19215738e-083, 5.83169021e-077,\n",
       "       9.34827322e-060, 3.17720745e-053, 1.04762039e-041, 8.77744386e-013,\n",
       "       5.39260625e-058, 8.37913986e-080, 8.75754833e-038, 2.40603089e-035])"
      ]
     },
     "execution_count": 34,
     "metadata": {},
     "output_type": "execute_result"
    }
   ],
   "source": [
    "# we care about the second column\n",
    "model.predict_proba(X_test)[:, 1]"
   ]
  },
  {
   "cell_type": "code",
   "execution_count": 28,
   "metadata": {},
   "outputs": [],
   "source": [
    "y_proba = model.predict_proba(X_test)[:, 1]"
   ]
  },
  {
   "cell_type": "code",
   "execution_count": 29,
   "metadata": {
    "collapsed": true
   },
   "outputs": [
    {
     "ename": "ValueError",
     "evalue": "multiclass format is not supported",
     "output_type": "error",
     "traceback": [
      "\u001b[1;31m---------------------------------------------------------------------------\u001b[0m",
      "\u001b[1;31mValueError\u001b[0m                                Traceback (most recent call last)",
      "\u001b[1;32m<ipython-input-29-95f0f3bcd160>\u001b[0m in \u001b[0;36m<module>\u001b[1;34m()\u001b[0m\n\u001b[1;32m----> 1\u001b[1;33m \u001b[0mroc_auc_score\u001b[0m\u001b[1;33m(\u001b[0m\u001b[0my_test\u001b[0m\u001b[1;33m,\u001b[0m \u001b[0my_proba\u001b[0m\u001b[1;33m)\u001b[0m\u001b[1;33m\u001b[0m\u001b[0m\n\u001b[0m",
      "\u001b[1;32m~\\Anaconda3\\lib\\site-packages\\sklearn\\metrics\\ranking.py\u001b[0m in \u001b[0;36mroc_auc_score\u001b[1;34m(y_true, y_score, average, sample_weight, max_fpr)\u001b[0m\n\u001b[0;32m    354\u001b[0m     return _average_binary_score(\n\u001b[0;32m    355\u001b[0m         \u001b[0m_binary_roc_auc_score\u001b[0m\u001b[1;33m,\u001b[0m \u001b[0my_true\u001b[0m\u001b[1;33m,\u001b[0m \u001b[0my_score\u001b[0m\u001b[1;33m,\u001b[0m \u001b[0maverage\u001b[0m\u001b[1;33m,\u001b[0m\u001b[1;33m\u001b[0m\u001b[0m\n\u001b[1;32m--> 356\u001b[1;33m         sample_weight=sample_weight)\n\u001b[0m\u001b[0;32m    357\u001b[0m \u001b[1;33m\u001b[0m\u001b[0m\n\u001b[0;32m    358\u001b[0m \u001b[1;33m\u001b[0m\u001b[0m\n",
      "\u001b[1;32m~\\Anaconda3\\lib\\site-packages\\sklearn\\metrics\\base.py\u001b[0m in \u001b[0;36m_average_binary_score\u001b[1;34m(binary_metric, y_true, y_score, average, sample_weight)\u001b[0m\n\u001b[0;32m     72\u001b[0m     \u001b[0my_type\u001b[0m \u001b[1;33m=\u001b[0m \u001b[0mtype_of_target\u001b[0m\u001b[1;33m(\u001b[0m\u001b[0my_true\u001b[0m\u001b[1;33m)\u001b[0m\u001b[1;33m\u001b[0m\u001b[0m\n\u001b[0;32m     73\u001b[0m     \u001b[1;32mif\u001b[0m \u001b[0my_type\u001b[0m \u001b[1;32mnot\u001b[0m \u001b[1;32min\u001b[0m \u001b[1;33m(\u001b[0m\u001b[1;34m\"binary\"\u001b[0m\u001b[1;33m,\u001b[0m \u001b[1;34m\"multilabel-indicator\"\u001b[0m\u001b[1;33m)\u001b[0m\u001b[1;33m:\u001b[0m\u001b[1;33m\u001b[0m\u001b[0m\n\u001b[1;32m---> 74\u001b[1;33m         \u001b[1;32mraise\u001b[0m \u001b[0mValueError\u001b[0m\u001b[1;33m(\u001b[0m\u001b[1;34m\"{0} format is not supported\"\u001b[0m\u001b[1;33m.\u001b[0m\u001b[0mformat\u001b[0m\u001b[1;33m(\u001b[0m\u001b[0my_type\u001b[0m\u001b[1;33m)\u001b[0m\u001b[1;33m)\u001b[0m\u001b[1;33m\u001b[0m\u001b[0m\n\u001b[0m\u001b[0;32m     75\u001b[0m \u001b[1;33m\u001b[0m\u001b[0m\n\u001b[0;32m     76\u001b[0m     \u001b[1;32mif\u001b[0m \u001b[0my_type\u001b[0m \u001b[1;33m==\u001b[0m \u001b[1;34m\"binary\"\u001b[0m\u001b[1;33m:\u001b[0m\u001b[1;33m\u001b[0m\u001b[0m\n",
      "\u001b[1;31mValueError\u001b[0m: multiclass format is not supported"
     ]
    }
   ],
   "source": [
    "roc_auc_score(y_test, y_proba)"
   ]
  },
  {
   "cell_type": "code",
   "execution_count": 36,
   "metadata": {},
   "outputs": [
    {
     "data": {
      "text/plain": [
       "<matplotlib.axes._subplots.AxesSubplot at 0x23d1cee6898>"
      ]
     },
     "execution_count": 36,
     "metadata": {},
     "output_type": "execute_result"
    },
    {
     "data": {
      "image/png": "[encoded data removed]",
      "text/plain": [
       "<Figure size 432x288 with 1 Axes>"
      ]
     },
     "metadata": {
      "needs_background": "light"
     },
     "output_type": "display_data"
    }
   ],
   "source": [
    "y_proba = model.predict_proba(X_test)\n",
    "plot_roc(y_test, y_proba)"
   ]
  },
  {
   "cell_type": "markdown",
   "metadata": {},
   "source": [
    "# Logistic Regression"
   ]
  },
  {
   "cell_type": "code",
   "execution_count": 37,
   "metadata": {},
   "outputs": [
    {
     "name": "stderr",
     "output_type": "stream",
     "text": [
      "C:\\Users\\Owner\\Anaconda3\\lib\\site-packages\\sklearn\\linear_model\\logistic.py:433: FutureWarning: Default solver will be changed to 'lbfgs' in 0.22. Specify a solver to silence this warning.\n",
      "  FutureWarning)\n"
     ]
    },
    {
     "data": {
      "text/plain": [
       "0.9962962962962963"
      ]
     },
     "execution_count": 37,
     "metadata": {},
     "output_type": "execute_result"
    }
   ],
   "source": [
    "from sklearn.metrics import classification_report\n",
    "\n",
    "X = digits.data\n",
    "\n",
    "y = digits.target\n",
    "\n",
    "X_train, X_test, y_train, y_test = train_test_split(X, new_y, test_size=0.3, random_state=42)\n",
    "\n",
    "scaler = StandardScaler()\n",
    "\n",
    "X_train = scaler.fit_transform(X_train)\n",
    "\n",
    "X_test = scaler.transform(X_test)\n",
    "\n",
    "model = LogisticRegression(C=1000000, random_state=42)\n",
    "\n",
    "model.fit(X_train,y_train)\n",
    "\n",
    "model.score(X_test, y_test)"
   ]
  },
  {
   "cell_type": "code",
   "execution_count": 13,
   "metadata": {},
   "outputs": [
    {
     "name": "stdout",
     "output_type": "stream",
     "text": [
      "              precision    recall  f1-score   support\n",
      "\n",
      "           0       1.00      0.98      0.99        53\n",
      "           1       0.91      0.86      0.89        50\n",
      "           2       0.96      1.00      0.98        47\n",
      "           3       1.00      0.96      0.98        54\n",
      "           4       0.98      0.98      0.98        60\n",
      "           5       0.95      0.92      0.94        66\n",
      "           6       1.00      0.98      0.99        53\n",
      "           7       0.98      0.98      0.98        55\n",
      "           8       0.76      0.95      0.85        43\n",
      "           9       0.98      0.92      0.95        59\n",
      "\n",
      "   micro avg       0.95      0.95      0.95       540\n",
      "   macro avg       0.95      0.95      0.95       540\n",
      "weighted avg       0.96      0.95      0.95       540\n",
      "\n"
     ]
    }
   ],
   "source": [
    "from sklearn.metrics import classification_report\n",
    "\n",
    "print(classification_report(y_test,y_pred))"
   ]
  },
  {
   "cell_type": "markdown",
   "metadata": {},
   "source": [
    "# PCA MODEL"
   ]
  },
  {
   "cell_type": "code",
   "execution_count": 38,
   "metadata": {},
   "outputs": [],
   "source": [
    "X_train, X_test, y_train, y_test = train_test_split(X, new_y, test_size=0.3, random_state=42)\n",
    "\n",
    "scaler = StandardScaler()\n",
    "X_train = scaler.fit_transform(X_train)\n",
    "X_test = scaler.transform(X_test)\n",
    "\n",
    "\n",
    "pca = PCA()\n",
    "X_train_pca = pca.fit_transform(X_train)"
   ]
  },
  {
   "cell_type": "code",
   "execution_count": 39,
   "metadata": {},
   "outputs": [
    {
     "data": {
      "text/plain": [
       "PCA(copy=True, iterated_power='auto', n_components=None, random_state=None,\n",
       "  svd_solver='auto', tol=0.0, whiten=False)"
      ]
     },
     "execution_count": 39,
     "metadata": {},
     "output_type": "execute_result"
    }
   ],
   "source": [
    "pca"
   ]
  },
  {
   "cell_type": "code",
   "execution_count": 40,
   "metadata": {},
   "outputs": [
    {
     "data": {
      "text/plain": [
       "array([[ 1.58822004e-01,  1.30088093e-01,  2.05083954e+00, ...,\n",
       "         0.00000000e+00, -0.00000000e+00,  5.78737846e-15],\n",
       "       [ 1.06496645e+00,  3.54094052e+00, -1.11566692e+00, ...,\n",
       "        -2.24724751e-16, -3.51259885e-17,  1.75793175e-17],\n",
       "       [-1.60053217e+00, -4.15197884e+00, -4.84268069e+00, ...,\n",
       "         3.82702088e-16,  1.26540173e-16,  1.38194508e-17],\n",
       "       ...,\n",
       "       [-1.63729675e+00,  2.26052812e+00, -5.42754470e-01, ...,\n",
       "         9.39335556e-17, -1.40526093e-16, -3.60904632e-17],\n",
       "       [ 1.68589846e+00,  1.80446546e+00, -2.81502652e-01, ...,\n",
       "         9.83275675e-17,  5.74839386e-17,  2.14944696e-17],\n",
       "       [ 3.26841912e-01, -4.43085128e-01, -4.46997411e+00, ...,\n",
       "         2.67341766e-17,  1.07991301e-17,  1.99152898e-17]])"
      ]
     },
     "execution_count": 40,
     "metadata": {},
     "output_type": "execute_result"
    }
   ],
   "source": [
    "X_train_pca"
   ]
  },
  {
   "cell_type": "code",
   "execution_count": 41,
   "metadata": {},
   "outputs": [
    {
     "data": {
      "text/plain": [
       "(1257, 64)"
      ]
     },
     "execution_count": 41,
     "metadata": {},
     "output_type": "execute_result"
    }
   ],
   "source": [
    "X_train_pca.shape"
   ]
  },
  {
   "cell_type": "code",
   "execution_count": 42,
   "metadata": {},
   "outputs": [
    {
     "data": {
      "text/plain": [
       "array([7.41115389e+00, 5.92741603e+00, 5.24413768e+00, 3.93664706e+00,\n",
       "       2.99498730e+00, 2.63682468e+00, 2.39485592e+00, 2.05037103e+00,\n",
       "       1.87131977e+00, 1.78712640e+00, 1.69194400e+00, 1.55785114e+00,\n",
       "       1.38214354e+00, 1.37280164e+00, 1.29009241e+00, 1.16421494e+00,\n",
       "       1.07164484e+00, 9.95161188e-01, 9.67393119e-01, 9.30761956e-01,\n",
       "       8.10905588e-01, 7.75308636e-01, 6.71426637e-01, 6.28139222e-01,\n",
       "       6.05388003e-01, 5.70502549e-01, 5.26597639e-01, 5.06511117e-01,\n",
       "       4.80691024e-01, 4.61191485e-01, 4.29964253e-01, 4.16234883e-01,\n",
       "       3.90040028e-01, 3.64107286e-01, 3.40664876e-01, 3.28252019e-01,\n",
       "       3.03860451e-01, 2.81907556e-01, 2.75548736e-01, 2.67582554e-01,\n",
       "       2.48169510e-01, 2.40810109e-01, 2.16650273e-01, 2.02803758e-01,\n",
       "       1.95951584e-01, 1.87193269e-01, 1.75089793e-01, 1.67750059e-01,\n",
       "       1.55445421e-01, 1.37920233e-01, 1.34479809e-01, 1.15311702e-01,\n",
       "       1.12100460e-01, 1.09080331e-01, 9.88881727e-02, 8.82649243e-02,\n",
       "       8.56877120e-02, 7.74130921e-02, 7.54211845e-02, 6.39092585e-02,\n",
       "       4.65531403e-02, 1.90878740e-31, 2.91768058e-32, 2.78936878e-32])"
      ]
     },
     "execution_count": 42,
     "metadata": {},
     "output_type": "execute_result"
    }
   ],
   "source": [
    "pca.explained_variance_"
   ]
  },
  {
   "cell_type": "code",
   "execution_count": 43,
   "metadata": {},
   "outputs": [
    {
     "data": {
      "text/plain": [
       "array([1.21397672e-01, 9.70934509e-02, 8.59010776e-02, 6.44838570e-02,\n",
       "       4.90590926e-02, 4.31922454e-02, 3.92287001e-02, 3.35858994e-02,\n",
       "       3.06529680e-02, 2.92738469e-02, 2.77147210e-02, 2.55182262e-02,\n",
       "       2.26400654e-02, 2.24870412e-02, 2.11322309e-02, 1.90703074e-02,\n",
       "       1.75539721e-02, 1.63011392e-02, 1.58462871e-02, 1.52462540e-02,\n",
       "       1.32829586e-02, 1.26998663e-02, 1.09982375e-02, 1.02891723e-02,\n",
       "       9.91649819e-03, 9.34506046e-03, 8.62588044e-03, 8.29685516e-03,\n",
       "       7.87391169e-03, 7.55450142e-03, 7.04298684e-03, 6.81809425e-03,\n",
       "       6.38901203e-03, 5.96422332e-03, 5.58022725e-03, 5.37689967e-03,\n",
       "       4.97735601e-03, 4.61775879e-03, 4.51359877e-03, 4.38310951e-03,\n",
       "       4.06511607e-03, 3.94456613e-03, 3.54881833e-03, 3.32200686e-03,\n",
       "       3.20976550e-03, 3.06630079e-03, 2.86804100e-03, 2.74781322e-03,\n",
       "       2.54625832e-03, 2.25918871e-03, 2.20283318e-03, 1.88885191e-03,\n",
       "       1.83625048e-03, 1.78677955e-03, 1.61982791e-03, 1.44581485e-03,\n",
       "       1.40359908e-03, 1.26805748e-03, 1.23542924e-03, 1.04685928e-03,\n",
       "       7.62559102e-04, 3.12667029e-33, 4.77927776e-34, 4.56909790e-34])"
      ]
     },
     "execution_count": 43,
     "metadata": {},
     "output_type": "execute_result"
    }
   ],
   "source": [
    "pca.explained_variance_ratio_ # all of these add up to 1"
   ]
  },
  {
   "cell_type": "code",
   "execution_count": 44,
   "metadata": {},
   "outputs": [
    {
     "data": {
      "text/plain": [
       "0.9999999999999999"
      ]
     },
     "execution_count": 44,
     "metadata": {},
     "output_type": "execute_result"
    }
   ],
   "source": [
    "pca.explained_variance_ratio_.sum()"
   ]
  },
  {
   "cell_type": "code",
   "execution_count": 45,
   "metadata": {},
   "outputs": [
    {
     "data": {
      "text/plain": [
       "array([0.12139767, 0.21849112, 0.3043922 , 0.36887606, 0.41793515,\n",
       "       0.4611274 , 0.5003561 , 0.53394199, 0.56459496, 0.59386881,\n",
       "       0.62158353, 0.64710176, 0.66974182, 0.69222886, 0.71336109,\n",
       "       0.7324314 , 0.74998537, 0.76628651, 0.7821328 , 0.79737905,\n",
       "       0.81066201, 0.82336188, 0.83436012, 0.84464929, 0.85456579,\n",
       "       0.86391085, 0.87253673, 0.88083358, 0.8887075 , 0.896262  ,\n",
       "       0.90330498, 0.91012308, 0.91651209, 0.92247631, 0.92805654,\n",
       "       0.93343344, 0.9384108 , 0.94302855, 0.94754215, 0.95192526,\n",
       "       0.95599038, 0.95993495, 0.96348376, 0.96680577, 0.97001554,\n",
       "       0.97308184, 0.97594988, 0.97869769, 0.98124395, 0.98350314,\n",
       "       0.98570597, 0.98759482, 0.98943107, 0.99121785, 0.99283768,\n",
       "       0.9942835 , 0.99568709, 0.99695515, 0.99819058, 0.99923744,\n",
       "       1.        , 1.        , 1.        , 1.        ])"
      ]
     },
     "execution_count": 45,
     "metadata": {},
     "output_type": "execute_result"
    }
   ],
   "source": [
    "pca.explained_variance_ratio_.cumsum()"
   ]
  },
  {
   "cell_type": "code",
   "execution_count": 46,
   "metadata": {},
   "outputs": [
    {
     "data": {
      "text/plain": [
       "<matplotlib.axes._subplots.AxesSubplot at 0x23d1dc6e630>"
      ]
     },
     "execution_count": 46,
     "metadata": {},
     "output_type": "execute_result"
    },
    {
     "data": {
      "image/png": "[encoded data removed]",
      "text/plain": [
       "<Figure size 432x288 with 1 Axes>"
      ]
     },
     "metadata": {
      "needs_background": "light"
     },
     "output_type": "display_data"
    }
   ],
   "source": [
    "pd.Series(pca.explained_variance_ratio_.cumsum()).plot() # we can say 30% of our components explains 90% of our variance"
   ]
  },
  {
   "cell_type": "markdown",
   "metadata": {},
   "source": [
    "## Lets say we want 90% from the start"
   ]
  },
  {
   "cell_type": "code",
   "execution_count": 47,
   "metadata": {},
   "outputs": [],
   "source": [
    "X_train, X_test, y_train, y_test = train_test_split(X, new_y, test_size=0.3, random_state=42)\n",
    "\n",
    "scaler = StandardScaler()\n",
    "X_train = scaler.fit_transform(X_train)\n",
    "X_test = scaler.transform(X_test)\n",
    "\n",
    "\n",
    "pca = PCA(n_components=.9) # choose number of components, or probability you want (in this case .90). or you can set it to 31 components\n",
    "X_train_pca = pca.fit_transform(X_train)"
   ]
  },
  {
   "cell_type": "code",
   "execution_count": 48,
   "metadata": {},
   "outputs": [
    {
     "data": {
      "text/plain": [
       "(1257, 31)"
      ]
     },
     "execution_count": 48,
     "metadata": {},
     "output_type": "execute_result"
    }
   ],
   "source": [
    "X_train_pca.shape"
   ]
  },
  {
   "cell_type": "markdown",
   "metadata": {},
   "source": [
    "## Now let's train a model"
   ]
  },
  {
   "cell_type": "code",
   "execution_count": 56,
   "metadata": {
    "scrolled": true
   },
   "outputs": [
    {
     "name": "stderr",
     "output_type": "stream",
     "text": [
      "C:\\Users\\Owner\\Anaconda3\\lib\\site-packages\\sklearn\\linear_model\\logistic.py:433: FutureWarning: Default solver will be changed to 'lbfgs' in 0.22. Specify a solver to silence this warning.\n",
      "  FutureWarning)\n"
     ]
    },
    {
     "data": {
      "text/plain": [
       "0.9949494949494949"
      ]
     },
     "execution_count": 56,
     "metadata": {},
     "output_type": "execute_result"
    }
   ],
   "source": [
    "X_train, X_test, y_train, y_test = train_test_split(X, new_y, test_size=0.33, random_state=42)\n",
    "\n",
    "scaler = StandardScaler()\n",
    "X_train = scaler.fit_transform(X_train)\n",
    "X_test = scaler.transform(X_test)\n",
    "\n",
    "\n",
    "pca = PCA(n_components=25) \n",
    "X_train = pca.fit_transform(X_train)\n",
    "X_test = pca.transform(X_test)\n",
    "\n",
    "\n",
    "model = LogisticRegression(C=1000000, random_state=42)\n",
    "model.fit(X_train,y_train)\n",
    "model.score(X_test, y_test)"
   ]
  },
  {
   "cell_type": "markdown",
   "metadata": {},
   "source": [
    "## USES"
   ]
  },
  {
   "cell_type": "code",
   "execution_count": 57,
   "metadata": {},
   "outputs": [],
   "source": [
    "# Now you can use this for your final model\n",
    "# less noise\n",
    "# less features... so now it is faster\n",
    "# takes up less memory now because you have less features"
   ]
  },
  {
   "cell_type": "markdown",
   "metadata": {},
   "source": [
    "## Visualize / Cluster"
   ]
  },
  {
   "cell_type": "code",
   "execution_count": 58,
   "metadata": {},
   "outputs": [],
   "source": [
    "# this time going to do entire dataset\n",
    "scaler = StandardScaler()\n",
    "X_pca = scaler.fit_transform(X)\n",
    "\n",
    "pca = PCA(n_components=2) \n",
    "X_pca = pca.fit_transform(X_pca)"
   ]
  },
  {
   "cell_type": "code",
   "execution_count": 59,
   "metadata": {},
   "outputs": [
    {
     "data": {
      "text/plain": [
       "array([[ 1.91420427, -0.95453114],\n",
       "       [ 0.58897394,  0.9246487 ],\n",
       "       [ 1.30206428, -0.31721662],\n",
       "       ...,\n",
       "       [ 1.02257742, -0.14796493],\n",
       "       [ 1.0760316 , -0.38091218],\n",
       "       [-1.25773168, -2.22764611]])"
      ]
     },
     "execution_count": 59,
     "metadata": {},
     "output_type": "execute_result"
    }
   ],
   "source": [
    "X_pca"
   ]
  },
  {
   "cell_type": "code",
   "execution_count": 60,
   "metadata": {
    "collapsed": true
   },
   "outputs": [
    {
     "data": {
      "text/html": [
       "<div>\n",
       "<style scoped>\n",
       "    .dataframe tbody tr th:only-of-type {\n",
       "        vertical-align: middle;\n",
       "    }\n",
       "\n",
       "    .dataframe tbody tr th {\n",
       "        vertical-align: top;\n",
       "    }\n",
       "\n",
       "    .dataframe thead th {\n",
       "        text-align: right;\n",
       "    }\n",
       "</style>\n",
       "<table border=\"1\" class=\"dataframe\">\n",
       "  <thead>\n",
       "    <tr style=\"text-align: right;\">\n",
       "      <th></th>\n",
       "      <th>0</th>\n",
       "      <th>1</th>\n",
       "    </tr>\n",
       "  </thead>\n",
       "  <tbody>\n",
       "    <tr>\n",
       "      <th>0</th>\n",
       "      <td>1.914204</td>\n",
       "      <td>-0.954531</td>\n",
       "    </tr>\n",
       "    <tr>\n",
       "      <th>1</th>\n",
       "      <td>0.588974</td>\n",
       "      <td>0.924649</td>\n",
       "    </tr>\n",
       "    <tr>\n",
       "      <th>2</th>\n",
       "      <td>1.302064</td>\n",
       "      <td>-0.317217</td>\n",
       "    </tr>\n",
       "    <tr>\n",
       "      <th>3</th>\n",
       "      <td>-3.020763</td>\n",
       "      <td>-0.868746</td>\n",
       "    </tr>\n",
       "    <tr>\n",
       "      <th>4</th>\n",
       "      <td>4.528967</td>\n",
       "      <td>-1.093499</td>\n",
       "    </tr>\n",
       "    <tr>\n",
       "      <th>5</th>\n",
       "      <td>-1.301941</td>\n",
       "      <td>-1.148138</td>\n",
       "    </tr>\n",
       "    <tr>\n",
       "      <th>6</th>\n",
       "      <td>1.434222</td>\n",
       "      <td>-2.957852</td>\n",
       "    </tr>\n",
       "    <tr>\n",
       "      <th>7</th>\n",
       "      <td>0.614231</td>\n",
       "      <td>5.462118</td>\n",
       "    </tr>\n",
       "    <tr>\n",
       "      <th>8</th>\n",
       "      <td>-1.098468</td>\n",
       "      <td>-0.665934</td>\n",
       "    </tr>\n",
       "    <tr>\n",
       "      <th>9</th>\n",
       "      <td>-0.538004</td>\n",
       "      <td>-0.777467</td>\n",
       "    </tr>\n",
       "    <tr>\n",
       "      <th>10</th>\n",
       "      <td>3.378745</td>\n",
       "      <td>-0.495782</td>\n",
       "    </tr>\n",
       "    <tr>\n",
       "      <th>11</th>\n",
       "      <td>2.063362</td>\n",
       "      <td>2.016662</td>\n",
       "    </tr>\n",
       "    <tr>\n",
       "      <th>12</th>\n",
       "      <td>-1.937005</td>\n",
       "      <td>-1.815316</td>\n",
       "    </tr>\n",
       "    <tr>\n",
       "      <th>13</th>\n",
       "      <td>-3.258050</td>\n",
       "      <td>2.149169</td>\n",
       "    </tr>\n",
       "    <tr>\n",
       "      <th>14</th>\n",
       "      <td>5.458755</td>\n",
       "      <td>0.025151</td>\n",
       "    </tr>\n",
       "    <tr>\n",
       "      <th>15</th>\n",
       "      <td>-3.877034</td>\n",
       "      <td>2.606945</td>\n",
       "    </tr>\n",
       "    <tr>\n",
       "      <th>16</th>\n",
       "      <td>0.921371</td>\n",
       "      <td>-3.262133</td>\n",
       "    </tr>\n",
       "    <tr>\n",
       "      <th>17</th>\n",
       "      <td>1.415350</td>\n",
       "      <td>1.954595</td>\n",
       "    </tr>\n",
       "    <tr>\n",
       "      <th>18</th>\n",
       "      <td>-0.926547</td>\n",
       "      <td>2.252919</td>\n",
       "    </tr>\n",
       "    <tr>\n",
       "      <th>19</th>\n",
       "      <td>-2.370997</td>\n",
       "      <td>-2.931885</td>\n",
       "    </tr>\n",
       "    <tr>\n",
       "      <th>20</th>\n",
       "      <td>2.001885</td>\n",
       "      <td>-1.319675</td>\n",
       "    </tr>\n",
       "    <tr>\n",
       "      <th>21</th>\n",
       "      <td>1.694894</td>\n",
       "      <td>2.075400</td>\n",
       "    </tr>\n",
       "    <tr>\n",
       "      <th>22</th>\n",
       "      <td>-3.114561</td>\n",
       "      <td>-1.059059</td>\n",
       "    </tr>\n",
       "    <tr>\n",
       "      <th>23</th>\n",
       "      <td>-1.469387</td>\n",
       "      <td>3.910369</td>\n",
       "    </tr>\n",
       "    <tr>\n",
       "      <th>24</th>\n",
       "      <td>4.003352</td>\n",
       "      <td>-0.322248</td>\n",
       "    </tr>\n",
       "    <tr>\n",
       "      <th>25</th>\n",
       "      <td>-0.376725</td>\n",
       "      <td>0.525075</td>\n",
       "    </tr>\n",
       "    <tr>\n",
       "      <th>26</th>\n",
       "      <td>1.286733</td>\n",
       "      <td>-3.969430</td>\n",
       "    </tr>\n",
       "    <tr>\n",
       "      <th>27</th>\n",
       "      <td>3.842336</td>\n",
       "      <td>3.478245</td>\n",
       "    </tr>\n",
       "    <tr>\n",
       "      <th>28</th>\n",
       "      <td>-0.166562</td>\n",
       "      <td>0.934011</td>\n",
       "    </tr>\n",
       "    <tr>\n",
       "      <th>29</th>\n",
       "      <td>-2.014465</td>\n",
       "      <td>-2.376757</td>\n",
       "    </tr>\n",
       "    <tr>\n",
       "      <th>...</th>\n",
       "      <td>...</td>\n",
       "      <td>...</td>\n",
       "    </tr>\n",
       "    <tr>\n",
       "      <th>1767</th>\n",
       "      <td>4.958592</td>\n",
       "      <td>-1.159581</td>\n",
       "    </tr>\n",
       "    <tr>\n",
       "      <th>1768</th>\n",
       "      <td>1.008999</td>\n",
       "      <td>-3.325893</td>\n",
       "    </tr>\n",
       "    <tr>\n",
       "      <th>1769</th>\n",
       "      <td>-0.542865</td>\n",
       "      <td>-0.493018</td>\n",
       "    </tr>\n",
       "    <tr>\n",
       "      <th>1770</th>\n",
       "      <td>-3.314631</td>\n",
       "      <td>1.510617</td>\n",
       "    </tr>\n",
       "    <tr>\n",
       "      <th>1771</th>\n",
       "      <td>2.128226</td>\n",
       "      <td>-2.822326</td>\n",
       "    </tr>\n",
       "    <tr>\n",
       "      <th>1772</th>\n",
       "      <td>-1.814050</td>\n",
       "      <td>1.197977</td>\n",
       "    </tr>\n",
       "    <tr>\n",
       "      <th>1773</th>\n",
       "      <td>1.374695</td>\n",
       "      <td>-4.417836</td>\n",
       "    </tr>\n",
       "    <tr>\n",
       "      <th>1774</th>\n",
       "      <td>0.762928</td>\n",
       "      <td>0.643417</td>\n",
       "    </tr>\n",
       "    <tr>\n",
       "      <th>1775</th>\n",
       "      <td>-0.433082</td>\n",
       "      <td>3.216019</td>\n",
       "    </tr>\n",
       "    <tr>\n",
       "      <th>1776</th>\n",
       "      <td>-0.525880</td>\n",
       "      <td>-1.154567</td>\n",
       "    </tr>\n",
       "    <tr>\n",
       "      <th>1777</th>\n",
       "      <td>5.106708</td>\n",
       "      <td>-0.289164</td>\n",
       "    </tr>\n",
       "    <tr>\n",
       "      <th>1778</th>\n",
       "      <td>5.900123</td>\n",
       "      <td>-1.710237</td>\n",
       "    </tr>\n",
       "    <tr>\n",
       "      <th>1779</th>\n",
       "      <td>1.597157</td>\n",
       "      <td>4.676364</td>\n",
       "    </tr>\n",
       "    <tr>\n",
       "      <th>1780</th>\n",
       "      <td>-5.137800</td>\n",
       "      <td>-0.190974</td>\n",
       "    </tr>\n",
       "    <tr>\n",
       "      <th>1781</th>\n",
       "      <td>-1.416123</td>\n",
       "      <td>-1.031508</td>\n",
       "    </tr>\n",
       "    <tr>\n",
       "      <th>1782</th>\n",
       "      <td>-4.272966</td>\n",
       "      <td>-1.355837</td>\n",
       "    </tr>\n",
       "    <tr>\n",
       "      <th>1783</th>\n",
       "      <td>-3.136881</td>\n",
       "      <td>-1.411745</td>\n",
       "    </tr>\n",
       "    <tr>\n",
       "      <th>1784</th>\n",
       "      <td>1.568530</td>\n",
       "      <td>-0.438600</td>\n",
       "    </tr>\n",
       "    <tr>\n",
       "      <th>1785</th>\n",
       "      <td>0.058270</td>\n",
       "      <td>1.978199</td>\n",
       "    </tr>\n",
       "    <tr>\n",
       "      <th>1786</th>\n",
       "      <td>-0.711467</td>\n",
       "      <td>0.253475</td>\n",
       "    </tr>\n",
       "    <tr>\n",
       "      <th>1787</th>\n",
       "      <td>-0.184769</td>\n",
       "      <td>-1.223708</td>\n",
       "    </tr>\n",
       "    <tr>\n",
       "      <th>1788</th>\n",
       "      <td>6.273908</td>\n",
       "      <td>-1.837087</td>\n",
       "    </tr>\n",
       "    <tr>\n",
       "      <th>1789</th>\n",
       "      <td>-1.220450</td>\n",
       "      <td>1.309812</td>\n",
       "    </tr>\n",
       "    <tr>\n",
       "      <th>1790</th>\n",
       "      <td>-0.461357</td>\n",
       "      <td>1.551110</td>\n",
       "    </tr>\n",
       "    <tr>\n",
       "      <th>1791</th>\n",
       "      <td>6.459135</td>\n",
       "      <td>-1.354888</td>\n",
       "    </tr>\n",
       "    <tr>\n",
       "      <th>1792</th>\n",
       "      <td>0.104293</td>\n",
       "      <td>0.255053</td>\n",
       "    </tr>\n",
       "    <tr>\n",
       "      <th>1793</th>\n",
       "      <td>2.423237</td>\n",
       "      <td>-1.429564</td>\n",
       "    </tr>\n",
       "    <tr>\n",
       "      <th>1794</th>\n",
       "      <td>1.022577</td>\n",
       "      <td>-0.147965</td>\n",
       "    </tr>\n",
       "    <tr>\n",
       "      <th>1795</th>\n",
       "      <td>1.076032</td>\n",
       "      <td>-0.380912</td>\n",
       "    </tr>\n",
       "    <tr>\n",
       "      <th>1796</th>\n",
       "      <td>-1.257732</td>\n",
       "      <td>-2.227646</td>\n",
       "    </tr>\n",
       "  </tbody>\n",
       "</table>\n",
       "<p>1797 rows × 2 columns</p>\n",
       "</div>"
      ],
      "text/plain": [
       "             0         1\n",
       "0     1.914204 -0.954531\n",
       "1     0.588974  0.924649\n",
       "2     1.302064 -0.317217\n",
       "3    -3.020763 -0.868746\n",
       "4     4.528967 -1.093499\n",
       "5    -1.301941 -1.148138\n",
       "6     1.434222 -2.957852\n",
       "7     0.614231  5.462118\n",
       "8    -1.098468 -0.665934\n",
       "9    -0.538004 -0.777467\n",
       "10    3.378745 -0.495782\n",
       "11    2.063362  2.016662\n",
       "12   -1.937005 -1.815316\n",
       "13   -3.258050  2.149169\n",
       "14    5.458755  0.025151\n",
       "15   -3.877034  2.606945\n",
       "16    0.921371 -3.262133\n",
       "17    1.415350  1.954595\n",
       "18   -0.926547  2.252919\n",
       "19   -2.370997 -2.931885\n",
       "20    2.001885 -1.319675\n",
       "21    1.694894  2.075400\n",
       "22   -3.114561 -1.059059\n",
       "23   -1.469387  3.910369\n",
       "24    4.003352 -0.322248\n",
       "25   -0.376725  0.525075\n",
       "26    1.286733 -3.969430\n",
       "27    3.842336  3.478245\n",
       "28   -0.166562  0.934011\n",
       "29   -2.014465 -2.376757\n",
       "...        ...       ...\n",
       "1767  4.958592 -1.159581\n",
       "1768  1.008999 -3.325893\n",
       "1769 -0.542865 -0.493018\n",
       "1770 -3.314631  1.510617\n",
       "1771  2.128226 -2.822326\n",
       "1772 -1.814050  1.197977\n",
       "1773  1.374695 -4.417836\n",
       "1774  0.762928  0.643417\n",
       "1775 -0.433082  3.216019\n",
       "1776 -0.525880 -1.154567\n",
       "1777  5.106708 -0.289164\n",
       "1778  5.900123 -1.710237\n",
       "1779  1.597157  4.676364\n",
       "1780 -5.137800 -0.190974\n",
       "1781 -1.416123 -1.031508\n",
       "1782 -4.272966 -1.355837\n",
       "1783 -3.136881 -1.411745\n",
       "1784  1.568530 -0.438600\n",
       "1785  0.058270  1.978199\n",
       "1786 -0.711467  0.253475\n",
       "1787 -0.184769 -1.223708\n",
       "1788  6.273908 -1.837087\n",
       "1789 -1.220450  1.309812\n",
       "1790 -0.461357  1.551110\n",
       "1791  6.459135 -1.354888\n",
       "1792  0.104293  0.255053\n",
       "1793  2.423237 -1.429564\n",
       "1794  1.022577 -0.147965\n",
       "1795  1.076032 -0.380912\n",
       "1796 -1.257732 -2.227646\n",
       "\n",
       "[1797 rows x 2 columns]"
      ]
     },
     "execution_count": 60,
     "metadata": {},
     "output_type": "execute_result"
    }
   ],
   "source": [
    "pd.DataFrame(X_pca)"
   ]
  },
  {
   "cell_type": "code",
   "execution_count": 62,
   "metadata": {},
   "outputs": [
    {
     "data": {
      "text/plain": [
       "<matplotlib.axes._subplots.AxesSubplot at 0x23d1d1dfef0>"
      ]
     },
     "execution_count": 62,
     "metadata": {},
     "output_type": "execute_result"
    },
    {
     "data": {
      "image/png": "[encoded data removed]",
      "text/plain": [
       "<Figure size 432x288 with 1 Axes>"
      ]
     },
     "metadata": {
      "needs_background": "light"
     },
     "output_type": "display_data"
    }
   ],
   "source": [
    "pd.DataFrame(X_pca, columns=['PC1', 'PC2']).plot(kind='scatter', x='PC1', y='PC2')\n",
    "# you can use this to see if there are clusters"
   ]
  },
  {
   "cell_type": "markdown",
   "metadata": {},
   "source": [
    "### fit a k-means model"
   ]
  },
  {
   "cell_type": "code",
   "execution_count": 63,
   "metadata": {},
   "outputs": [],
   "source": [
    "model = KMeans()\n",
    "\n",
    "clusters = model.fit_predict(X_pca)"
   ]
  },
  {
   "cell_type": "code",
   "execution_count": 64,
   "metadata": {},
   "outputs": [
    {
     "data": {
      "text/plain": [
       "array([3, 3, 3, ..., 3, 3, 7])"
      ]
     },
     "execution_count": 64,
     "metadata": {},
     "output_type": "execute_result"
    }
   ],
   "source": [
    "clusters"
   ]
  },
  {
   "cell_type": "code",
   "execution_count": 65,
   "metadata": {},
   "outputs": [
    {
     "data": {
      "text/plain": [
       "(1797,)"
      ]
     },
     "execution_count": 65,
     "metadata": {},
     "output_type": "execute_result"
    }
   ],
   "source": [
    "clusters.shape"
   ]
  },
  {
   "cell_type": "code",
   "execution_count": null,
   "metadata": {},
   "outputs": [],
   "source": [
    "# now each image has been assigned to each cluster"
   ]
  },
  {
   "cell_type": "code",
   "execution_count": 66,
   "metadata": {},
   "outputs": [
    {
     "data": {
      "image/png": "[encoded data removed]",
      "text/plain": [
       "<Figure size 432x288 with 2 Axes>"
      ]
     },
     "metadata": {
      "needs_background": "light"
     },
     "output_type": "display_data"
    }
   ],
   "source": [
    "pd.DataFrame(X_pca, columns=['PC1', 'PC2']).plot(kind='scatter', x='PC1', y='PC2', c=clusters, colormap='Set1');"
   ]
  },
  {
   "cell_type": "code",
   "execution_count": 67,
   "metadata": {},
   "outputs": [
    {
     "data": {
      "image/png": "[encoded data removed]",
      "text/plain": [
       "<Figure size 432x288 with 2 Axes>"
      ]
     },
     "metadata": {
      "needs_background": "light"
     },
     "output_type": "display_data"
    }
   ],
   "source": [
    "# compare it to the actual labels\n",
    "\n",
    "pd.DataFrame(X_pca, columns=['PC1', 'PC2']).plot(kind='scatter', x='PC1', y='PC2', c=y, colormap='Set1');"
   ]
  },
  {
   "cell_type": "code",
   "execution_count": 68,
   "metadata": {},
   "outputs": [],
   "source": [
    "# by reducing the number of components you can see if your clusters make sense"
   ]
  }
 ],
 "metadata": {
  "kernelspec": {
   "display_name": "Python 3",
   "language": "python",
   "name": "python3"
  },
  "language_info": {
   "codemirror_mode": {
    "name": "ipython",
    "version": 3
   },
   "file_extension": ".py",
   "mimetype": "text/x-python",
   "name": "python",
   "nbconvert_exporter": "python",
   "pygments_lexer": "ipython3",
   "version": "3.7.0"
  }
 },
 "nbformat": 4,
 "nbformat_minor": 2
}
